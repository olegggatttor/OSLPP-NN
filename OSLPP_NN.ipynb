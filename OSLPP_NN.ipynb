{
 "cells": [
  {
   "cell_type": "code",
   "execution_count": null,
   "metadata": {},
   "outputs": [],
   "source": [
    "%load_ext autoreload\n",
    "%autoreload 2"
   ]
  },
  {
   "cell_type": "code",
   "execution_count": null,
   "metadata": {},
   "outputs": [],
   "source": [
    "import os\n",
    "import pickle\n",
    "\n",
    "from modules.logging.format_utils import format_measures\n",
    "from modules.collecting.results_collector import DataFrameCollector\n",
    "from modules.logging.logger import DefaultLogger\n",
    "from modules.algorithms.base.OSLPP import Params\n",
    "from modules.selection.uncertanties import SelectRejectMode\n",
    "from modules.algorithms.nn.OSLPP_NN_UTILS import train\n",
    "from modules.types.selection_types import SelectRejectMode"
   ]
  },
  {
   "cell_type": "code",
   "execution_count": null,
   "metadata": {},
   "outputs": [],
   "source": [
    "with open('experiments/configs/small_datasets.pkl', 'rb') as f:\n",
    "    config = pickle.load(f)"
   ]
  },
  {
   "cell_type": "code",
   "execution_count": null,
   "metadata": {},
   "outputs": [],
   "source": [
    "os.environ[\"CUDA_VISIBLE_DEVICES\"] = '1'"
   ]
  },
  {
   "cell_type": "code",
   "execution_count": null,
   "metadata": {},
   "outputs": [],
   "source": [
    "# sources = ['art', 'clipart', 'product', 'real_world']\n",
    "# targets = ['art', 'clipart', 'product', 'real_world']"
   ]
  },
  {
   "cell_type": "code",
   "execution_count": null,
   "metadata": {},
   "outputs": [],
   "source": [
    "# sources = ['amazon', 'dslr', 'webcam']\n",
    "# targets = ['amazon', 'dslr', 'webcam']"
   ]
  },
  {
   "cell_type": "code",
   "execution_count": null,
   "metadata": {},
   "outputs": [],
   "source": [
    "# sources = ['painting_train', 'real_train', 'sketch_train']\n",
    "# targets = ['painting_train', 'real_train', 'sketch_train']"
   ]
  },
  {
   "cell_type": "code",
   "execution_count": null,
   "metadata": {},
   "outputs": [],
   "source": [
    "# sources = ['train'] \n",
    "# targets = ['validation']"
   ]
  },
  {
   "cell_type": "code",
   "execution_count": null,
   "metadata": {},
   "outputs": [],
   "source": [
    "sources = ['painting_train', 'real_train', 'sketch_train']\n",
    "targets = ['painting_test', 'real_test', 'sketch_test']"
   ]
  },
  {
   "cell_type": "code",
   "execution_count": null,
   "metadata": {},
   "outputs": [],
   "source": [
    "results = DataFrameCollector({'source': [], 'target': [], 'desc': [], 'lr': [], 'seed': [], 'epochs': [], 'mode': []})\n",
    "select_reject_mode = SelectRejectMode.CONFIDENCE\n",
    "# toptop = [SelectRejectMode.CONFIDENCE, SelectRejectMode.ENTROPY]\n",
    "logger = DefaultLogger()\n",
    "for source in sources:\n",
    "    for target in targets:\n",
    "        if source.split('_')[0] == target.split('_')[0]:\n",
    "            continue\n",
    "        for epochs in [10]:\n",
    "            for lr in [1e-3]:\n",
    "                for n_r in [0.15]:\n",
    "                    for select_reject_mode in [SelectRejectMode.CONFIDENCE, SelectRejectMode.ENTROPY, SelectRejectMode.MARGIN]:\n",
    "                        for seed in range(5):\n",
    "                            params = Params(pca_dim=512, proj_dim=128, T=10, n_r=n_r, n_r_ratio=None,\n",
    "                                            dataset='DomainNet_DCC', source=source, target=target,\n",
    "                                            num_common=150, num_src_priv=50, num_tgt_priv=145)\n",
    "                            metrics = train(params, lr, epochs, 1, select_reject_mode, seed, range(200), None, logger, osda=False)\n",
    "                            results.collect({'source': source, 'target': target, 'desc': format_measures(metrics), 'lr': lr, 'seed': seed, 'n_r': n_r, 'epochs': epochs, 'mode': select_reject_mode})\n",
    "results.get_result().to_csv('all_results/results/dcc__UNDA_ALL_MODES.csv', header=True, index=False)"
   ]
  },
  {
   "cell_type": "code",
   "execution_count": null,
   "metadata": {
    "pycharm": {
     "name": "#%%\n"
    }
   },
   "outputs": [],
   "source": [
    "# results.get_result().to_csv('all_results/results/dcc__CONF_VALID__nn_raw.csv', header=True, index=False)"
   ]
  },
  {
   "cell_type": "code",
   "execution_count": null,
   "metadata": {},
   "outputs": [],
   "source": [
    "sources = ['art', 'clipart', 'product', 'real_world']\n",
    "targets = ['art', 'clipart', 'product', 'real_world']"
   ]
  },
  {
   "cell_type": "code",
   "execution_count": null,
   "metadata": {},
   "outputs": [],
   "source": [
    "results = DataFrameCollector({'source': [], 'target': [], 'desc': [], 'lr': [], 'seed': [], 'epochs': []})\n",
    "select_reject_mode = SelectRejectMode.CONFIDENCE\n",
    "# toptop = [SelectRejectMode.CONFIDENCE, SelectRejectMode.ENTROPY]\n",
    "logger = DefaultLogger()\n",
    "for source in sources:\n",
    "    for target in targets:\n",
    "        for epochs in [10]:\n",
    "            for lr in [1e-3]:\n",
    "                for n_r in [0.15]:\n",
    "                    for seed in range(1):\n",
    "                        params = Params(pca_dim=512, proj_dim=128, T=10, n_r=n_r, n_r_ratio=None,\n",
    "                                        dataset='OfficeHome', source=source, target=target,\n",
    "                                        num_common=10, num_src_priv=5, num_tgt_priv=50)\n",
    "                        metrics = train(params, lr, epochs, 1, select_reject_mode, seed, range(10), None, logger, osda=False)\n",
    "                        results.collect({'source': source, 'target': target, 'desc': format_measures(metrics), 'lr': lr, 'seed': seed, 'n_r': n_r, 'epochs': epochs})\n",
    "# results.get_result().to_csv('all_results/results/aaa.csv', header=True, index=False)"
   ]
  },
  {
   "cell_type": "code",
   "execution_count": null,
   "metadata": {},
   "outputs": [],
   "source": [
    "import pandas as pd"
   ]
  },
  {
   "cell_type": "code",
   "execution_count": null,
   "metadata": {},
   "outputs": [],
   "source": [
    "df = pd.read_csv('all_results/results/office_31_oslpp_nn_raw.csv')"
   ]
  },
  {
   "cell_type": "code",
   "execution_count": null,
   "metadata": {},
   "outputs": [],
   "source": [
    "df['h_score'] = df['desc'].apply(lambda x: float(x.split()[-1].split('=')[-1]))"
   ]
  },
  {
   "cell_type": "code",
   "execution_count": null,
   "metadata": {},
   "outputs": [],
   "source": [
    "df"
   ]
  },
  {
   "cell_type": "code",
   "execution_count": null,
   "metadata": {},
   "outputs": [],
   "source": [
    "df.groupby(['source', 'target', 'lr', 'n_r'])['h_score'].mean().to_frame(\n",
    "    name='h_score').reset_index().sort_values(by='h_score', ascending=False).drop_duplicates(['source', 'target'])"
   ]
  },
  {
   "cell_type": "code",
   "execution_count": null,
   "metadata": {},
   "outputs": [],
   "source": [
    "sources = ['amazon', 'dslr', 'webcam']\n",
    "targets = ['amazon', 'dslr', 'webcam']"
   ]
  },
  {
   "cell_type": "code",
   "execution_count": null,
   "metadata": {},
   "outputs": [],
   "source": [
    "results = DataFrameCollector({'source': [], 'target': [], 'desc': [], 'lr': [], 'seed': [], 'epochs': []})\n",
    "select_reject_mode = SelectRejectMode.CONFIDENCE\n",
    "logger = DefaultLogger()\n",
    "for source in sources:\n",
    "    for target in targets:\n",
    "        if source.split('_')[0] == target.split('_')[0]:\n",
    "            continue\n",
    "        for epochs in [10]:\n",
    "            for lr in [1e-3]:\n",
    "                for n_r in [0.15]:\n",
    "                    for seed in range(9):\n",
    "                        params = Params(pca_dim=512, proj_dim=128, T=10, n_r=n_r, n_r_ratio=None,\n",
    "                                        dataset='Office31', source=source, target=target,\n",
    "                                        num_common=10, num_src_priv=10, num_tgt_priv=11)\n",
    "                        metrics = train(params, lr, epochs, 1, select_reject_mode, seed, range(200), None, logger, osda=False)\n",
    "                        results.collect({'source': source, 'target': target, 'desc': format_measures(metrics), 'lr': lr, 'seed': seed, 'n_r': n_r, 'epochs': epochs})\n",
    "results.get_result().to_csv('all_results/results/office31_conf.csv', header=True, index=False)"
   ]
  },
  {
   "cell_type": "code",
   "execution_count": null,
   "metadata": {},
   "outputs": [],
   "source": []
  }
 ],
 "metadata": {
  "interpreter": {
   "hash": "87c3e150e0f22e62286b0675a541f4baa4e53a56f1434145374688b05f7921a7"
  },
  "kernelspec": {
   "display_name": "Python 3 (ipykernel)",
   "language": "python",
   "name": "python3"
  },
  "language_info": {
   "codemirror_mode": {
    "name": "ipython",
    "version": 3
   },
   "file_extension": ".py",
   "mimetype": "text/x-python",
   "name": "python",
   "nbconvert_exporter": "python",
   "pygments_lexer": "ipython3",
   "version": "3.8.12"
  }
 },
 "nbformat": 4,
 "nbformat_minor": 2
}