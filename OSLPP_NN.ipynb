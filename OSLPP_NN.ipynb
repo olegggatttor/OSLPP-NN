{
 "cells": [
  {
   "cell_type": "code",
   "execution_count": 1,
   "metadata": {},
   "outputs": [],
   "source": [
    "%load_ext autoreload\n",
    "%autoreload 2"
   ]
  },
  {
   "cell_type": "code",
   "execution_count": 2,
   "metadata": {},
   "outputs": [],
   "source": [
    "\n",
    "import os\n",
    "import pickle\n",
    "\n",
    "from modules.logging.format_utils import format_measures\n",
    "from modules.collecting.results_collector import DataFrameCollector\n",
    "from modules.logging.logger import DefaultLogger\n",
    "from modules.algorithms.base.OSLPP import Params\n",
    "from modules.selection.uncertanties import SelectRejectMode\n",
    "from modules.algorithms.nn.OSLPP_NN_UTILS import train_osda"
   ]
  },
  {
   "cell_type": "code",
   "execution_count": 3,
   "metadata": {},
   "outputs": [],
   "source": [
    "with open('experiments/configs/small_datasets.pkl', 'rb') as f:\n",
    "    config = pickle.load(f)"
   ]
  },
  {
   "cell_type": "code",
   "execution_count": 4,
   "metadata": {},
   "outputs": [],
   "source": [
    "os.environ[\"CUDA_VISIBLE_DEVICES\"] = '1'"
   ]
  },
  {
   "cell_type": "code",
   "execution_count": 5,
   "metadata": {},
   "outputs": [],
   "source": [
    "# sources = ['art', 'clipart', 'product', 'real_world']\n",
    "# targets = ['art', 'clipart', 'product', 'real_world']"
   ]
  },
  {
   "cell_type": "code",
   "execution_count": 6,
   "metadata": {},
   "outputs": [],
   "source": [
    "# sources = ['amazon', 'dslr', 'webcam']\n",
    "# targets = ['amazon', 'dslr', 'webcam']"
   ]
  },
  {
   "cell_type": "code",
   "execution_count": 7,
   "metadata": {},
   "outputs": [],
   "source": [
    "# sources = ['painting_train', 'real_train', 'sketch_train']\n",
    "# targets = ['painting_train', 'real_train', 'sketch_train']"
   ]
  },
  {
   "cell_type": "code",
   "execution_count": 8,
   "metadata": {},
   "outputs": [],
   "source": [
    "# sources = ['train'] \n",
    "# targets = ['validation']"
   ]
  },
  {
   "cell_type": "code",
   "execution_count": 9,
   "metadata": {
    "pycharm": {
     "name": "#%%\n"
    },
    "scrolled": true
   },
   "outputs": [
    {
     "name": "stdout",
     "output_type": "stream",
     "text": [
      "painting -> sketch lr= 0.001 seed= 0\n",
      "[3715 3179  177 ...  489  613  606]\n",
      "______\n",
      "Iteration t=1\n",
      "all:  cs/acc_i=51.81 cs/acc_c=53.33 os/recall_knw=94.87 os/recall_unk=18.39 total/acc_i=38.94 total/acc_c=50.73 total/h_score=27.22\n",
      "selected:  cs/acc_i=61.89 cs/acc_c=63.35 os/recall_knw=75.32 os/recall_unk=82.89 total/acc_i=66.85 total/acc_c=59.87 total/h_score=68.75\n",
      "______\n",
      "Iteration t=2\n",
      "all:  cs/acc_i=50.49 cs/acc_c=52.10 os/recall_knw=63.47 os/recall_unk=65.58 total/acc_i=48.88 total/acc_c=41.78 total/h_score=50.14\n",
      "selected:  cs/acc_i=47.67 cs/acc_c=49.71 os/recall_knw=44.40 os/recall_unk=85.86 total/acc_i=52.75 total/acc_c=34.73 total/h_score=46.80\n",
      "______\n",
      "Iteration t=3\n",
      "all:  cs/acc_i=50.49 cs/acc_c=52.09 os/recall_knw=58.00 os/recall_unk=71.86 total/acc_i=49.69 total/acc_c=39.80 total/h_score=49.88\n",
      "selected:  cs/acc_i=48.36 cs/acc_c=50.36 os/recall_knw=49.22 os/recall_unk=81.03 total/acc_i=50.69 total/acc_c=36.00 total/h_score=47.65\n",
      "______\n",
      "Iteration t=4\n",
      "all:  cs/acc_i=50.23 cs/acc_c=51.78 os/recall_knw=57.09 os/recall_unk=72.84 total/acc_i=49.64 total/acc_c=39.20 total/h_score=49.52\n",
      "selected:  cs/acc_i=48.58 cs/acc_c=50.59 os/recall_knw=53.15 os/recall_unk=76.13 total/acc_i=49.42 total/acc_c=37.09 total/h_score=48.09\n",
      "______\n",
      "Iteration t=5\n",
      "all:  cs/acc_i=50.19 cs/acc_c=51.58 os/recall_knw=56.68 os/recall_unk=72.84 total/acc_i=49.50 total/acc_c=38.98 total/h_score=49.32\n",
      "selected:  cs/acc_i=49.30 cs/acc_c=51.06 os/recall_knw=55.12 os/recall_unk=73.95 total/acc_i=49.20 total/acc_c=38.07 total/h_score=48.68\n",
      "______\n",
      "Iteration t=6\n",
      "all:  cs/acc_i=51.51 cs/acc_c=53.05 os/recall_knw=56.57 os/recall_unk=73.10 total/acc_i=49.57 total/acc_c=38.96 total/h_score=49.35\n",
      "selected:  cs/acc_i=51.12 cs/acc_c=52.82 os/recall_knw=56.19 os/recall_unk=73.44 total/acc_i=49.40 total/acc_c=38.64 total/h_score=49.12\n",
      "______\n",
      "Iteration t=7\n",
      "all:  cs/acc_i=52.04 cs/acc_c=53.74 os/recall_knw=56.57 os/recall_unk=73.10 total/acc_i=49.57 total/acc_c=38.96 total/h_score=49.35\n",
      "selected:  cs/acc_i=52.04 cs/acc_c=53.74 os/recall_knw=56.57 os/recall_unk=73.10 total/acc_i=49.57 total/acc_c=38.96 total/h_score=49.35\n",
      "______\n",
      "Iteration t=8\n",
      "all:  cs/acc_i=51.36 cs/acc_c=52.92 os/recall_knw=56.57 os/recall_unk=73.10 total/acc_i=49.57 total/acc_c=38.96 total/h_score=49.35\n",
      "selected:  cs/acc_i=51.36 cs/acc_c=52.92 os/recall_knw=56.57 os/recall_unk=73.10 total/acc_i=49.57 total/acc_c=38.96 total/h_score=49.35\n",
      "______\n",
      "Iteration t=9\n",
      "all:  cs/acc_i=51.09 cs/acc_c=52.76 os/recall_knw=56.57 os/recall_unk=73.10 total/acc_i=49.57 total/acc_c=38.96 total/h_score=49.35\n",
      "selected:  cs/acc_i=51.09 cs/acc_c=52.76 os/recall_knw=56.57 os/recall_unk=73.10 total/acc_i=49.57 total/acc_c=38.96 total/h_score=49.35\n",
      "all:  cs/acc_i=51.09 cs/acc_c=52.76 os/recall_knw=56.57 os/recall_unk=73.10 total/acc_i=49.57 total/acc_c=38.96 total/h_score=49.35\n",
      "painting -> sketch lr= 0.001 seed= 1\n",
      "[1719 2444 3401 ...  489  359  606]\n",
      "______\n",
      "Iteration t=1\n",
      "all:  cs/acc_i=49.85 cs/acc_c=51.34 os/recall_knw=93.74 os/recall_unk=16.43 total/acc_i=36.93 total/acc_c=48.64 total/h_score=24.76\n",
      "selected:  cs/acc_i=54.80 cs/acc_c=56.28 os/recall_knw=71.03 os/recall_unk=79.43 total/acc_i=60.29 total/acc_c=52.85 total/h_score=62.50\n",
      "______\n",
      "Iteration t=2\n",
      "all:  cs/acc_i=51.89 cs/acc_c=53.46 os/recall_knw=62.34 os/recall_unk=66.43 total/acc_i=49.33 total/acc_c=42.12 total/h_score=50.63\n",
      "selected:  cs/acc_i=49.15 cs/acc_c=50.79 os/recall_knw=43.49 os/recall_unk=85.80 total/acc_i=52.70 total/acc_c=34.75 total/h_score=46.82\n",
      "______\n",
      "Iteration t=3\n",
      "all:  cs/acc_i=51.43 cs/acc_c=52.99 os/recall_knw=57.85 os/recall_unk=72.05 total/acc_i=50.29 total/acc_c=40.67 total/h_score=50.70\n",
      "selected:  cs/acc_i=49.40 cs/acc_c=51.40 os/recall_knw=48.86 os/recall_unk=81.13 total/acc_i=51.31 total/acc_c=36.93 total/h_score=48.63\n"
     ]
    },
    {
     "ename": "KeyboardInterrupt",
     "evalue": "",
     "output_type": "error",
     "traceback": [
      "\u001b[0;31m---------------------------------------------------------------------------\u001b[0m",
      "\u001b[0;31mKeyboardInterrupt\u001b[0m                         Traceback (most recent call last)",
      "\u001b[0;32m/tmp/ipykernel_2215936/3756870530.py\u001b[0m in \u001b[0;36m<module>\u001b[0;34m\u001b[0m\n\u001b[1;32m     16\u001b[0m                                     \u001b[0mdataset\u001b[0m\u001b[0;34m=\u001b[0m\u001b[0;34m'DomainNet_DCC'\u001b[0m\u001b[0;34m,\u001b[0m \u001b[0msource\u001b[0m\u001b[0;34m=\u001b[0m\u001b[0msource\u001b[0m\u001b[0;34m,\u001b[0m \u001b[0mtarget\u001b[0m\u001b[0;34m=\u001b[0m\u001b[0mtarget\u001b[0m\u001b[0;34m,\u001b[0m\u001b[0;34m\u001b[0m\u001b[0;34m\u001b[0m\u001b[0m\n\u001b[1;32m     17\u001b[0m                                     num_common=len(common), num_src_priv=0, num_tgt_priv=len(tgt_private))\n\u001b[0;32m---> 18\u001b[0;31m                     \u001b[0mmetrics\u001b[0m \u001b[0;34m=\u001b[0m \u001b[0mtrain_osda\u001b[0m\u001b[0;34m(\u001b[0m\u001b[0mparams\u001b[0m\u001b[0;34m,\u001b[0m \u001b[0mlr\u001b[0m\u001b[0;34m,\u001b[0m \u001b[0mepochs\u001b[0m\u001b[0;34m,\u001b[0m \u001b[0mselect_reject_mode\u001b[0m\u001b[0;34m,\u001b[0m \u001b[0mseed\u001b[0m\u001b[0;34m,\u001b[0m \u001b[0mcommon\u001b[0m\u001b[0;34m,\u001b[0m \u001b[0mtgt_private\u001b[0m\u001b[0;34m,\u001b[0m \u001b[0mlogger\u001b[0m\u001b[0;34m)\u001b[0m\u001b[0;34m\u001b[0m\u001b[0;34m\u001b[0m\u001b[0m\n\u001b[0m\u001b[1;32m     19\u001b[0m                     \u001b[0mresults\u001b[0m\u001b[0;34m.\u001b[0m\u001b[0mcollect\u001b[0m\u001b[0;34m(\u001b[0m\u001b[0;34m{\u001b[0m\u001b[0;34m'source'\u001b[0m\u001b[0;34m:\u001b[0m \u001b[0msource\u001b[0m\u001b[0;34m,\u001b[0m \u001b[0;34m'target'\u001b[0m\u001b[0;34m:\u001b[0m \u001b[0mtarget\u001b[0m\u001b[0;34m,\u001b[0m \u001b[0;34m'desc'\u001b[0m\u001b[0;34m:\u001b[0m \u001b[0mformat_measures\u001b[0m\u001b[0;34m(\u001b[0m\u001b[0mmetrics\u001b[0m\u001b[0;34m)\u001b[0m\u001b[0;34m,\u001b[0m \u001b[0;34m'lr'\u001b[0m\u001b[0;34m:\u001b[0m \u001b[0mlr\u001b[0m\u001b[0;34m,\u001b[0m \u001b[0;34m'seed'\u001b[0m\u001b[0;34m:\u001b[0m \u001b[0mseed\u001b[0m\u001b[0;34m,\u001b[0m \u001b[0;34m'n_r'\u001b[0m\u001b[0;34m:\u001b[0m \u001b[0mn_r\u001b[0m\u001b[0;34m,\u001b[0m \u001b[0;34m'epochs'\u001b[0m\u001b[0;34m:\u001b[0m \u001b[0mepochs\u001b[0m\u001b[0;34m}\u001b[0m\u001b[0;34m)\u001b[0m\u001b[0;34m\u001b[0m\u001b[0;34m\u001b[0m\u001b[0m\n\u001b[1;32m     20\u001b[0m \u001b[0mresults\u001b[0m\u001b[0;34m.\u001b[0m\u001b[0mget_result\u001b[0m\u001b[0;34m(\u001b[0m\u001b[0;34m)\u001b[0m\u001b[0;34m.\u001b[0m\u001b[0mto_csv\u001b[0m\u001b[0;34m(\u001b[0m\u001b[0;34m'../all_results/results/dcc__conf__small__NEW__variable_epochs__multi_mean_std__nn_raw.csv'\u001b[0m\u001b[0;34m,\u001b[0m \u001b[0mheader\u001b[0m\u001b[0;34m=\u001b[0m\u001b[0;32mTrue\u001b[0m\u001b[0;34m,\u001b[0m \u001b[0mindex\u001b[0m\u001b[0;34m=\u001b[0m\u001b[0;32mFalse\u001b[0m\u001b[0;34m)\u001b[0m\u001b[0;34m\u001b[0m\u001b[0;34m\u001b[0m\u001b[0m\n",
      "\u001b[0;32m/mnt/tank/scratch/obobrov/OSLPP-NN/modules/algorithms/nn/OSLPP_NN_UTILS.py\u001b[0m in \u001b[0;36mtrain_osda\u001b[0;34m(params, lr, epochs, select_reject_mode, seed, common, tgt_private, logger, balanced_config, weights, tops)\u001b[0m\n\u001b[1;32m    116\u001b[0m \u001b[0;34m\u001b[0m\u001b[0m\n\u001b[1;32m    117\u001b[0m     \u001b[0;32mfor\u001b[0m \u001b[0mt\u001b[0m \u001b[0;32min\u001b[0m \u001b[0mrange\u001b[0m\u001b[0;34m(\u001b[0m\u001b[0;36m2\u001b[0m\u001b[0;34m,\u001b[0m \u001b[0mparams\u001b[0m\u001b[0;34m.\u001b[0m\u001b[0mT\u001b[0m\u001b[0;34m)\u001b[0m\u001b[0;34m:\u001b[0m\u001b[0;34m\u001b[0m\u001b[0;34m\u001b[0m\u001b[0m\n\u001b[0;32m--> 118\u001b[0;31m         model = train_NN(feats_all, torch.cat([labels_S, pseudo_labels], axis=0), epochs, params,\n\u001b[0m\u001b[1;32m    119\u001b[0m                          balanced=True, lr=lr)\n\u001b[1;32m    120\u001b[0m         \u001b[0mfeats_S_2\u001b[0m\u001b[0;34m,\u001b[0m \u001b[0mpredictions_S_2\u001b[0m \u001b[0;34m=\u001b[0m \u001b[0mpredict_NN\u001b[0m\u001b[0;34m(\u001b[0m\u001b[0mmodel\u001b[0m\u001b[0;34m,\u001b[0m \u001b[0mfeats_S\u001b[0m\u001b[0;34m,\u001b[0m \u001b[0mlabels_S\u001b[0m\u001b[0;34m)\u001b[0m\u001b[0;34m\u001b[0m\u001b[0;34m\u001b[0m\u001b[0m\n",
      "\u001b[0;32m/mnt/tank/scratch/obobrov/OSLPP-NN/modules/algorithms/nn/OSLPP_NN_UTILS.py\u001b[0m in \u001b[0;36mtrain_NN\u001b[0;34m(feats, labels, num_epochs, params, balanced, lr, initial)\u001b[0m\n\u001b[1;32m     30\u001b[0m     \u001b[0;32mfor\u001b[0m \u001b[0mep\u001b[0m \u001b[0;32min\u001b[0m \u001b[0mrange\u001b[0m\u001b[0;34m(\u001b[0m\u001b[0mnum_epochs\u001b[0m\u001b[0;34m)\u001b[0m\u001b[0;34m:\u001b[0m\u001b[0;34m\u001b[0m\u001b[0;34m\u001b[0m\u001b[0m\n\u001b[1;32m     31\u001b[0m         \u001b[0;32mfor\u001b[0m \u001b[0mf\u001b[0m\u001b[0;34m,\u001b[0m \u001b[0ml\u001b[0m \u001b[0;32min\u001b[0m \u001b[0mdl\u001b[0m\u001b[0;34m:\u001b[0m\u001b[0;34m\u001b[0m\u001b[0;34m\u001b[0m\u001b[0m\n\u001b[0;32m---> 32\u001b[0;31m             \u001b[0moptimizer\u001b[0m\u001b[0;34m.\u001b[0m\u001b[0mzero_grad\u001b[0m\u001b[0;34m(\u001b[0m\u001b[0;34m)\u001b[0m\u001b[0;34m\u001b[0m\u001b[0;34m\u001b[0m\u001b[0m\n\u001b[0m\u001b[1;32m     33\u001b[0m             \u001b[0mloss_fn\u001b[0m\u001b[0;34m(\u001b[0m\u001b[0mmodel\u001b[0m\u001b[0;34m(\u001b[0m\u001b[0mf\u001b[0m\u001b[0;34m.\u001b[0m\u001b[0mcuda\u001b[0m\u001b[0;34m(\u001b[0m\u001b[0;34m)\u001b[0m\u001b[0;34m)\u001b[0m\u001b[0;34m,\u001b[0m \u001b[0ml\u001b[0m\u001b[0;34m.\u001b[0m\u001b[0mcuda\u001b[0m\u001b[0;34m(\u001b[0m\u001b[0;34m)\u001b[0m\u001b[0;34m)\u001b[0m\u001b[0;34m.\u001b[0m\u001b[0mbackward\u001b[0m\u001b[0;34m(\u001b[0m\u001b[0;34m)\u001b[0m\u001b[0;34m\u001b[0m\u001b[0;34m\u001b[0m\u001b[0m\n\u001b[1;32m     34\u001b[0m             \u001b[0moptimizer\u001b[0m\u001b[0;34m.\u001b[0m\u001b[0mstep\u001b[0m\u001b[0;34m(\u001b[0m\u001b[0;34m)\u001b[0m\u001b[0;34m\u001b[0m\u001b[0;34m\u001b[0m\u001b[0m\n",
      "\u001b[0;32m/mnt/tank/scratch/obobrov/miniconda3/envs/autoleg/lib/python3.8/site-packages/torch/optim/optimizer.py\u001b[0m in \u001b[0;36mzero_grad\u001b[0;34m(self, set_to_none)\u001b[0m\n\u001b[1;32m    215\u001b[0m                             \u001b[0;32melse\u001b[0m\u001b[0;34m:\u001b[0m\u001b[0;34m\u001b[0m\u001b[0;34m\u001b[0m\u001b[0m\n\u001b[1;32m    216\u001b[0m                                 \u001b[0mp\u001b[0m\u001b[0;34m.\u001b[0m\u001b[0mgrad\u001b[0m\u001b[0;34m.\u001b[0m\u001b[0mrequires_grad_\u001b[0m\u001b[0;34m(\u001b[0m\u001b[0;32mFalse\u001b[0m\u001b[0;34m)\u001b[0m\u001b[0;34m\u001b[0m\u001b[0;34m\u001b[0m\u001b[0m\n\u001b[0;32m--> 217\u001b[0;31m                             \u001b[0mp\u001b[0m\u001b[0;34m.\u001b[0m\u001b[0mgrad\u001b[0m\u001b[0;34m.\u001b[0m\u001b[0mzero_\u001b[0m\u001b[0;34m(\u001b[0m\u001b[0;34m)\u001b[0m\u001b[0;34m\u001b[0m\u001b[0;34m\u001b[0m\u001b[0m\n\u001b[0m\u001b[1;32m    218\u001b[0m \u001b[0;34m\u001b[0m\u001b[0m\n\u001b[1;32m    219\u001b[0m     \u001b[0;32mdef\u001b[0m \u001b[0mstep\u001b[0m\u001b[0;34m(\u001b[0m\u001b[0mself\u001b[0m\u001b[0;34m,\u001b[0m \u001b[0mclosure\u001b[0m\u001b[0;34m)\u001b[0m\u001b[0;34m:\u001b[0m\u001b[0;34m\u001b[0m\u001b[0;34m\u001b[0m\u001b[0m\n",
      "\u001b[0;31mKeyboardInterrupt\u001b[0m: "
     ]
    }
   ],
   "source": [
    "results = DataFrameCollector({'source': [], 'target': [], 'desc': [], 'lr': [], 'seed': [], 'epochs': []})\n",
    "select_reject_mode = SelectRejectMode.CONFIDENCE\n",
    "logger = DefaultLogger()\n",
    "# for source in sources:\n",
    "#     for target in targets:\n",
    "#         if source == target:\n",
    "#             continue\n",
    "#         for lr in [1e-3, 1e-4, 5e-4]:\n",
    "#             for n_r in [0.15, 0.25, 0.35, 0.45]:\n",
    "for (source, target), (common, tgt_private) in config.items():\n",
    "    for epochs in [10]:\n",
    "        for lr in [1e-3]:\n",
    "            for n_r in [0.1, 0.15, 0.25]:\n",
    "                for seed in range(9):\n",
    "                    params = Params(pca_dim=512, proj_dim=128, T=10, n_r=n_r, n_r_ratio=None,\n",
    "                                    dataset='DomainNet_DCC', source=source, target=target,\n",
    "                                    num_common=len(common), num_src_priv=0, num_tgt_priv=len(tgt_private))\n",
    "                    metrics = train_osda(params, lr, epochs, select_reject_mode, seed, common, tgt_private, logger)\n",
    "                    results.collect({'source': source, 'target': target, 'desc': format_measures(metrics), 'lr': lr, 'seed': seed, 'n_r': n_r, 'epochs': epochs})\n",
    "results.get_result().to_csv('../all_results/results/dcc__conf__small__NEW__variable_epochs__multi_mean_std__nn_raw.csv', header=True, index=False)"
   ]
  },
  {
   "cell_type": "code",
   "execution_count": null,
   "metadata": {
    "pycharm": {
     "name": "#%%\n"
    }
   },
   "outputs": [],
   "source": []
  }
 ],
 "metadata": {
  "interpreter": {
   "hash": "87c3e150e0f22e62286b0675a541f4baa4e53a56f1434145374688b05f7921a7"
  },
  "kernelspec": {
   "display_name": "Python 3 (ipykernel)",
   "language": "python",
   "name": "python3"
  },
  "language_info": {
   "codemirror_mode": {
    "name": "ipython",
    "version": 3
   },
   "file_extension": ".py",
   "mimetype": "text/x-python",
   "name": "python",
   "nbconvert_exporter": "python",
   "pygments_lexer": "ipython3",
   "version": "3.8.12"
  }
 },
 "nbformat": 4,
 "nbformat_minor": 2
}
