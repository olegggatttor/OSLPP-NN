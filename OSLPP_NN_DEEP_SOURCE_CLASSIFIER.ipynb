{
 "cells": [
  {
   "cell_type": "code",
   "execution_count": null,
   "metadata": {},
   "outputs": [],
   "source": [
    "import torch\n",
    "import torch.nn as nn\n",
    "import os\n",
    "import pandas as pd\n",
    "import pickle\n",
    "from sklearn.metrics import classification_report\n",
    "from sklearn.model_selection import StratifiedKFold\n",
    "from tqdm import tqdm\n",
    "from torch.utils.data import DataLoader\n",
    "import torch.nn.functional as F\n",
    "from torch.utils.data import Dataset"
   ]
  },
  {
   "cell_type": "code",
   "execution_count": null,
   "metadata": {},
   "outputs": [],
   "source": [
    "with open('experiments/configs/small_datasets.pkl', 'rb') as f:\n",
    "    config = pickle.load(f)"
   ]
  },
  {
   "cell_type": "code",
   "execution_count": null,
   "metadata": {},
   "outputs": [],
   "source": [
    "os.environ[\"CUDA_VISIBLE_DEVICES\"] = '1'"
   ]
  },
  {
   "cell_type": "code",
   "execution_count": null,
   "metadata": {
    "pycharm": {
     "name": "#%%\n"
    }
   },
   "outputs": [],
   "source": [
    "from modules.deep.DEEPNN import get_simple_deep_nn, fix_batch_normalization_layers\n",
    "\n",
    "\n",
    "def get_deep(_, n_classes):\n",
    "    m = get_simple_deep_nn(n_classes).train()\n",
    "    m.apply(fix_batch_normalization_layers)\n",
    "    return m.cuda()"
   ]
  },
  {
   "cell_type": "code",
   "execution_count": null,
   "metadata": {},
   "outputs": [],
   "source": [
    "class FeaturesDataset(Dataset):\n",
    "    def __init__(self, features, labels):\n",
    "        self.features = features\n",
    "        self.labels = labels\n",
    "\n",
    "    def __len__(self): return len(self.labels)\n",
    "\n",
    "    def __getitem__(self, i): return self.features[i], self.labels[i]"
   ]
  },
  {
   "cell_type": "code",
   "execution_count": null,
   "metadata": {
    "pycharm": {
     "name": "#%%\n"
    }
   },
   "outputs": [],
   "source": [
    "from modules.loaders.balanced_sampling import create_train_dataloader\n",
    "\n",
    "\n",
    "def train_NN(feats_S, lbls_S, num_epochs, params, balanced, lr):\n",
    "    num_src_classes = params.num_common + params.num_src_priv\n",
    "    \n",
    "    model = get_deep(params, num_src_classes)\n",
    "    optimizer = torch.optim.Adam(model.parameters(), lr=lr)\n",
    "    loss_fn = nn.CrossEntropyLoss().cuda()\n",
    "    ds = FeaturesDataset(feats_S, lbls_S)\n",
    "    dl = create_train_dataloader(ds, 32, balanced)\n",
    "    print('CLASSES:', num_src_classes)\n",
    "    for _ in (pbar := tqdm(range(num_epochs))):\n",
    "        avg_loss = 0\n",
    "        for f,l in dl:\n",
    "            optimizer.zero_grad()\n",
    "            preds = model(f.cuda())\n",
    "            loss = loss_fn(preds, l.cuda())\n",
    "            loss.backward()\n",
    "            optimizer.step()\n",
    "            avg_loss += loss.item()\n",
    "        pbar.set_description('Loss: ' + str(avg_loss / len(dl)))\n",
    "    return model.eval()"
   ]
  },
  {
   "cell_type": "code",
   "execution_count": null,
   "metadata": {
    "pycharm": {
     "name": "#%%\n"
    }
   },
   "outputs": [],
   "source": [
    "def predict_NN(model, feats, lbls):\n",
    "    ds = FeaturesDataset(feats, lbls)\n",
    "    dl = DataLoader(ds, batch_size=32, shuffle=False)\n",
    "    model = model.eval()\n",
    "    preds = []\n",
    "    with torch.no_grad():\n",
    "        for f,l in dl:\n",
    "            out = model(f.cuda())\n",
    "            preds.append(F.softmax(out, dim=1).detach().cpu())\n",
    "    preds = torch.cat(preds, dim=0)\n",
    "    return preds"
   ]
  },
  {
   "cell_type": "code",
   "execution_count": null,
   "metadata": {
    "scrolled": true
   },
   "outputs": [],
   "source": [
    "from torch.utils.data import Subset\n",
    "from modules.loaders.osda import create_datasets_sub\n",
    "from modules.algorithms.base.OSLPP import Params, do_l2_normalization, do_pca\n",
    "from modules.loaders.common import set_seed\n",
    "\n",
    "results = pd.DataFrame({'source': [],  'lr': [], 'seed': [], 'epochs': [], 'report': []})\n",
    "used_src = set()\n",
    "splitter = StratifiedKFold(n_splits=5)\n",
    "for (source, target), (common, tgt_private) in config.items():\n",
    "    if source in used_src:\n",
    "        continue\n",
    "    used_src.add(source)\n",
    "    for epochs in [50]:\n",
    "        for lr in [1e-5]:\n",
    "            for n_r in [0.1, 0.15, 0.25]:\n",
    "                set_seed(0)\n",
    "                print(source, '->', target, 'lr=', lr, 'seed=', 0)\n",
    "                params = Params(pca_dim=512, proj_dim=128, T=10, n_r=1200, n_r_ratio=None,\n",
    "                          dataset='DomainNet_DCC', source=source, target=target,\n",
    "                          num_common=len(common), num_src_priv=0, num_tgt_priv=len(tgt_private))\n",
    "                (feats_S, labels_S), (_, _) = create_datasets_sub(params.dataset,\n",
    "                                                                                   params.source,\n",
    "                                                                                   params.target,\n",
    "                                                                                   common,\n",
    "                                                                                   tgt_private,\n",
    "                                                                                   is_images=True)\n",
    "                metrics = train_osda(params, lr, epochs, 1, select_reject_mode, seed, None, None, logger, osda=False)\n",
    "                        results.collect({'source': source, 'target': target, 'desc': format_measures(metrics), 'lr': lr, 'seed': seed, 'n_r': n_r, 'epochs': epochs})\n",
    "                num_src_classes = params.num_common + params.num_src_priv\n",
    "\n",
    "#                 for i, (train_idx, test_idx) in enumerate(splitter.split(feats_S, labels_S)):\n",
    "#                     feats_S_train, lbls_S_train = feats_S[train_idx], labels_S[train_idx]\n",
    "#                     feats_S_test, lbls_S_test = feats_S[test_idx], labels_S[test_idx]\n",
    "\n",
    "\n",
    "#                     model = train_NN(feats_S_train, lbls_S_train, epochs, params, balanced=True, lr=lr)\n",
    "#                     preds_S_2 = predict_NN(model, feats_S_test, lbls_S_test)\n",
    "\n",
    "#                     confs, preds_labels = preds_S_2.max(dim=1)\n",
    "\n",
    "#                     np_preds = preds_labels.numpy()\n",
    "#                     np_labels = lbls_S_test\n",
    "                    \n",
    "#                     report = classification_report(np_labels, np_preds, output_dict=True)\n",
    "\n",
    "                    results = results.append({'source': source, 'lr': lr, 'seed': i, 'epochs': epochs, 'report': report}, ignore_index=True)\n",
    "                del feats_S, labels_S"
   ]
  },
  {
   "cell_type": "code",
   "execution_count": null,
   "metadata": {
    "pycharm": {
     "name": "#%%\n"
    }
   },
   "outputs": [],
   "source": [
    "results.to_csv('deep_src_classifier_3.csv', header=True, index=False)"
   ]
  },
  {
   "cell_type": "code",
   "execution_count": null,
   "metadata": {},
   "outputs": [],
   "source": []
  }
 ],
 "metadata": {
  "interpreter": {
   "hash": "87c3e150e0f22e62286b0675a541f4baa4e53a56f1434145374688b05f7921a7"
  },
  "kernelspec": {
   "display_name": "Python 3 (ipykernel)",
   "language": "python",
   "name": "python3"
  },
  "language_info": {
   "codemirror_mode": {
    "name": "ipython",
    "version": 3
   },
   "file_extension": ".py",
   "mimetype": "text/x-python",
   "name": "python",
   "nbconvert_exporter": "python",
   "pygments_lexer": "ipython3",
   "version": "3.8.12"
  }
 },
 "nbformat": 4,
 "nbformat_minor": 2
}
