{
 "cells": [
  {
   "cell_type": "code",
   "execution_count": 90,
   "metadata": {},
   "outputs": [],
   "source": [
    "import os\n",
    "import pickle\n",
    "import torch\n",
    "from modules.augmentation.transformations import *"
   ]
  },
  {
   "cell_type": "code",
   "execution_count": 22,
   "metadata": {},
   "outputs": [],
   "source": [
    "with open('experiments/configs/small_datasets.pkl', 'rb') as f:\n",
    "    config = pickle.load(f)"
   ]
  },
  {
   "cell_type": "code",
   "execution_count": 23,
   "metadata": {
    "pycharm": {
     "name": "#%%\n"
    }
   },
   "outputs": [],
   "source": [
    "os.environ[\"CUDA_VISIBLE_DEVICES\"] = '1'"
   ]
  },
  {
   "cell_type": "code",
   "execution_count": null,
   "outputs": [],
   "source": [
    "sources = ['painting', 'real', 'sketch']"
   ],
   "metadata": {
    "collapsed": false,
    "pycharm": {
     "name": "#%%\n"
    }
   }
  },
  {
   "cell_type": "code",
   "execution_count": null,
   "outputs": [],
   "source": [
    "from torch import nn\n",
    "from torch.utils.data import DataLoader\n",
    "from modules.loaders.resnet_features.features_dataset import FeaturesDataset\n",
    "from modules.deep.DEEPNN import get_feature_extractor_model\n",
    "from modules.loaders.osda import _load_tensors_sub_images\n",
    "from tqdm import tqdm\n",
    "\n",
    "used_targets = set()\n",
    "dataset = 'DomainNet_DCC'\n",
    "for (source, target), (common, tgt_private) in config.items():\n",
    "    if target in used_targets:\n",
    "        continue\n",
    "    used_targets.add(target)\n",
    "    for transform in [Augmentation.TRANSLATE, Augmentation.ROTATE, Augmentation.FLIP, Augmentation.SCALE, Augmentation.AFFINE_DEGREES, Augmentation.BRIGHTNESS, Augmentation.CONTRAST, Augmentation.BLUR]:\n",
    "        tgt_features_raw, tgt_labels_raw = _load_tensors_sub_images(dataset, target, 'test',\n",
    "                                                                common,\n",
    "                                                                tgt_private,\n",
    "                                                                None)\n",
    "        tgt_features_aug, tgt_labels_aug = _load_tensors_sub_images(dataset, target, 'test',\n",
    "                                                                common,\n",
    "                                                                tgt_private,\n",
    "                                                                transform)\n",
    "\n",
    "        tgt_dataset_raw = FeaturesDataset(tgt_features_raw, tgt_labels_raw)\n",
    "        tgt_dataset_aug = FeaturesDataset(tgt_features_aug, tgt_labels_aug)\n",
    "\n",
    "        tgt_loader_raw = DataLoader(tgt_dataset_raw, batch_size=32, shuffle=False)\n",
    "        tgt_loader_aug = DataLoader(tgt_dataset_aug, batch_size=32, shuffle=False)\n",
    "\n",
    "        resnet_model = get_feature_extractor_model()\n",
    "        resnet_model = nn.Sequential(*resnet_model, nn.Flatten()).cuda()\n",
    "\n",
    "        raw_fs = []\n",
    "        raw_labels = []\n",
    "        for (features, labels) in tqdm(tgt_loader_raw):\n",
    "            features = features.cuda()\n",
    "            labels = labels.detach().cpu()\n",
    "\n",
    "            with torch.no_grad():\n",
    "                out_features = resnet_model(features).detach().cpu()\n",
    "\n",
    "            raw_fs.append(out_features)\n",
    "            raw_labels.append(labels)\n",
    "\n",
    "        all_raw_fs = torch.cat(raw_fs, dim=0)\n",
    "        all_raw_ls = torch.cat(raw_labels, dim=0)\n",
    "\n",
    "        directory = f'./features/DomainNet_DCC_aug/{transform.name}'\n",
    "        if not os.path.exists(directory):\n",
    "            os.makedirs(directory)\n",
    "\n",
    "        torch.save((all_raw_fs, all_raw_ls), f'{directory}/nocrop_{target}_test_raw.plk')\n",
    "\n",
    "        aug_fs = []\n",
    "        aug_labels = []\n",
    "        for (features, labels) in tqdm(tgt_loader_aug):\n",
    "            features = features.cuda()\n",
    "            labels = labels.detach().cpu()\n",
    "\n",
    "            with torch.no_grad():\n",
    "                out_features = resnet_model(features).detach().cpu()\n",
    "\n",
    "            aug_fs.append(out_features)\n",
    "            aug_labels.append(labels)\n",
    "\n",
    "        all_aug_fs = torch.cat(aug_fs, dim=0)\n",
    "        all_aug_labels = torch.cat(aug_labels, dim=0)\n",
    "\n",
    "        torch.save((all_aug_fs, all_aug_labels), f'./features/DomainNet_DCC_aug/{transform.name}/nocrop_{target}_test_aug.plk')"
   ],
   "metadata": {
    "collapsed": false,
    "pycharm": {
     "name": "#%%\n"
    }
   }
  }
 ],
 "metadata": {
  "interpreter": {
   "hash": "87c3e150e0f22e62286b0675a541f4baa4e53a56f1434145374688b05f7921a7"
  },
  "kernelspec": {
   "display_name": "Python 3 (ipykernel)",
   "language": "python",
   "name": "python3"
  },
  "language_info": {
   "codemirror_mode": {
    "name": "ipython",
    "version": 3
   },
   "file_extension": ".py",
   "mimetype": "text/x-python",
   "name": "python",
   "nbconvert_exporter": "python",
   "pygments_lexer": "ipython3",
   "version": "3.8.12"
  }
 },
 "nbformat": 4,
 "nbformat_minor": 2
}