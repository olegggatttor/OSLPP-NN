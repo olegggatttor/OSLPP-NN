{
 "cells": [
  {
   "cell_type": "code",
   "execution_count": 1,
   "metadata": {},
   "outputs": [],
   "source": [
    "import os\n",
    "import pickle"
   ]
  },
  {
   "cell_type": "code",
   "execution_count": 2,
   "metadata": {},
   "outputs": [],
   "source": [
    "with open('small_datasets.pkl', 'rb') as f:\n",
    "    config = pickle.load(f)"
   ]
  },
  {
   "cell_type": "code",
   "execution_count": 3,
   "metadata": {},
   "outputs": [],
   "source": [
    "os.environ[\"CUDA_VISIBLE_DEVICES\"] = '1'"
   ]
  },
  {
   "cell_type": "code",
   "execution_count": 1,
   "metadata": {
    "scrolled": true,
    "pycharm": {
     "name": "#%%\n"
    }
   },
   "outputs": [
    {
     "ename": "NameError",
     "evalue": "name 'config' is not defined",
     "output_type": "error",
     "traceback": [
      "\u001B[1;31m---------------------------------------------------------------------------\u001B[0m",
      "\u001B[1;31mNameError\u001B[0m                                 Traceback (most recent call last)",
      "Input \u001B[1;32mIn [1]\u001B[0m, in \u001B[0;36m<cell line: 11>\u001B[1;34m()\u001B[0m\n\u001B[0;32m      9\u001B[0m select_reject_mode \u001B[38;5;241m=\u001B[39m SelectRejectMode\u001B[38;5;241m.\u001B[39mCONFIDENCE\n\u001B[0;32m     10\u001B[0m logger \u001B[38;5;241m=\u001B[39m DefaultLogger()\n\u001B[1;32m---> 11\u001B[0m \u001B[38;5;28;01mfor\u001B[39;00m (source, target), (common, tgt_private) \u001B[38;5;129;01min\u001B[39;00m \u001B[43mconfig\u001B[49m\u001B[38;5;241m.\u001B[39mitems():\n\u001B[0;32m     12\u001B[0m     \u001B[38;5;28;01mfor\u001B[39;00m epochs \u001B[38;5;129;01min\u001B[39;00m [\u001B[38;5;241m10\u001B[39m]:\n\u001B[0;32m     13\u001B[0m         \u001B[38;5;28;01mfor\u001B[39;00m lr \u001B[38;5;129;01min\u001B[39;00m [\u001B[38;5;241m1e-3\u001B[39m]:\n",
      "\u001B[1;31mNameError\u001B[0m: name 'config' is not defined"
     ]
    }
   ],
   "source": [
    "from modules.logging.format_utils import format_measures\n",
    "from modules.logging.logger import DefaultLogger\n",
    "from modules.collecting.results_collector import DataFrameCollector\n",
    "from modules.algorithms.nn.OSLPP_NN_UTILS import train_osda\n",
    "from modules.algorithms.base.OSLPP import Params\n",
    "from modules.selection.uncertanties import SelectRejectMode\n",
    "\n",
    "results = DataFrameCollector({'source': [], 'target': [], 'desc': [], 'lr': [], 'seed': [], 'epochs': [], 'tops': []})\n",
    "select_reject_mode = SelectRejectMode.CONFIDENCE\n",
    "logger = DefaultLogger()\n",
    "for (source, target), (common, tgt_private) in config.items():\n",
    "    for epochs in [10]:\n",
    "        for lr in [1e-3]:\n",
    "            for n_r in [0.1, 0.25]:\n",
    "#                 for weights in [[0.33, 0.33, 0.33], [0.2, 0.4, 0.4], [0.4, 0.2, 0.4], [0.4, 0.4, 0.2]]:\n",
    "                 for tops in [[SelectRejectMode.CONFIDENCE, SelectRejectMode.ENTROPY],\n",
    "                                [SelectRejectMode.CONFIDENCE, SelectRejectMode.MARGIN],\n",
    "                                [SelectRejectMode.ENTROPY, SelectRejectMode.MARGIN],\n",
    "                                [SelectRejectMode.CONFIDENCE, SelectRejectMode.ENTROPY, SelectRejectMode.MARGIN]]:\n",
    "                    for seed in range(5):\n",
    "                        params = Params(pca_dim=512, proj_dim=128, T=10, n_r=n_r, n_r_ratio=None,\n",
    "                                    dataset='DomainNet_DCC', source=source, target=target,\n",
    "                                    num_common=len(common), num_src_priv=0, num_tgt_priv=len(tgt_private))\n",
    "                        metrics = train_osda(params, lr, epochs, SelectRejectMode.TOPS, seed, common, tgt_private, logger)\n",
    "                        results.collect({'source': source, 'target': target, 'desc': format_measures(metrics), 'lr': lr, 'seed': seed, 'tops': tops, 'epochs': epochs}, ignore_index=True)\n",
    "results.get_result().to_csv('./all_results/results_weighted_scores/dcc__conf__small__NEW__combined_tops__nn_raw.csv', header=True, index=False)"
   ]
  }
 ],
 "metadata": {
  "interpreter": {
   "hash": "87c3e150e0f22e62286b0675a541f4baa4e53a56f1434145374688b05f7921a7"
  },
  "kernelspec": {
   "display_name": "Python 3 (ipykernel)",
   "language": "python",
   "name": "python3"
  },
  "language_info": {
   "codemirror_mode": {
    "name": "ipython",
    "version": 3
   },
   "file_extension": ".py",
   "mimetype": "text/x-python",
   "name": "python",
   "nbconvert_exporter": "python",
   "pygments_lexer": "ipython3",
   "version": "3.8.12"
  }
 },
 "nbformat": 4,
 "nbformat_minor": 2
}