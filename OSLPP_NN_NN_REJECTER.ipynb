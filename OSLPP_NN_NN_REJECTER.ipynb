{
 "cells": [
  {
   "cell_type": "code",
   "execution_count": 1,
   "metadata": {},
   "outputs": [],
   "source": [
    "import torch\n",
    "import torch.nn as nn\n",
    "import os\n",
    "import pandas as pd\n",
    "import pickle"
   ]
  },
  {
   "cell_type": "code",
   "execution_count": 2,
   "metadata": {},
   "outputs": [],
   "source": [
    "with open('small_datasets.pkl', 'rb') as f:\n",
    "    config = pickle.load(f)"
   ]
  },
  {
   "cell_type": "code",
   "execution_count": 3,
   "metadata": {},
   "outputs": [],
   "source": [
    "os.environ[\"CUDA_VISIBLE_DEVICES\"] = '1'"
   ]
  },
  {
   "cell_type": "code",
   "execution_count": null,
   "outputs": [],
   "source": [
    "from modules.loaders.balanced_sampling import create_train_dataloader\n",
    "from modules.loaders.resnet_features.features_dataset import FeaturesDataset\n",
    "\n",
    "\n",
    "def train_NN_N_plus_One(feats, lbls, num_epochs, params, balanced, lr):\n",
    "    num_src_classes = params.num_common + params.num_src_priv\n",
    "    feats, lbls = feats[lbls >= 0], lbls[lbls >= 0]\n",
    "    feats, lbls = feats[lbls < num_src_classes + 1], lbls[lbls < num_src_classes + 1]\n",
    "    model = nn.Sequential(nn.Linear(params.pca_dim, params.proj_dim), nn.ReLU(), nn.Linear(params.proj_dim, num_src_classes + 1)).cuda().train()\n",
    "    optimizer = torch.optim.Adam(model.parameters(), lr=lr)\n",
    "    loss_fn = nn.CrossEntropyLoss().cuda()\n",
    "    ds = FeaturesDataset(feats, lbls)\n",
    "    dl = create_train_dataloader(ds, 32, balanced)\n",
    "    for ep in range(num_epochs):\n",
    "        for f,l in dl:\n",
    "            optimizer.zero_grad()\n",
    "            loss_fn(model(f.cuda()), l.cuda()).backward()\n",
    "            optimizer.step()\n",
    "    return model.eval()"
   ],
   "metadata": {
    "collapsed": false,
    "pycharm": {
     "name": "#%%\n"
    }
   }
  },
  {
   "cell_type": "code",
   "execution_count": null,
   "metadata": {
    "scrolled": true,
    "pycharm": {
     "is_executing": true
    }
   },
   "outputs": [],
   "source": [
    "from modules.logging.format_utils import format_measures\n",
    "from modules.algorithms.nn.OSLPP_NN_UTILS import train_NN, predict_NN\n",
    "from modules.loaders.osda import create_datasets_sub\n",
    "from modules.algorithms.base.OSLPP import Params, do_l2_normalization, do_pca, select_closed_set_pseudo_labels, \\\n",
    "    evaluate_T\n",
    "from modules.loaders.common import set_seed\n",
    "from modules.selection.uncertanties import SelectRejectMode, select_initial_rejected\n",
    "\n",
    "results = pd.DataFrame({'source': [], 'target': [], 'desc': [], 'lr': [], 'seed': [], 'epochs': []})\n",
    "select_reject_mode = SelectRejectMode.CONFIDENCE\n",
    "for (source, target), (common, tgt_private) in config.items():\n",
    "    for epochs in [10, 50]:\n",
    "        for lr in [1e-3, 1e-4]:\n",
    "            for n_r in [0.1, 0.25, 0.35]:\n",
    "                for seed in range(3):\n",
    "                    set_seed(seed)\n",
    "                    print(source, '->', target, 'lr=', lr, 'seed=', seed)\n",
    "                    params = Params(pca_dim=512, proj_dim=128, T=10, n_r=1200, n_r_ratio=None,\n",
    "                              dataset='DomainNet_DCC', source=source, target=target,\n",
    "                              num_common=len(common), num_src_priv=0, num_tgt_priv=len(tgt_private))\n",
    "                    (feats_S, labels_S), (feats_T, labels_T) = create_datasets_sub(params.dataset,\n",
    "                                                                                   params.source,\n",
    "                                                                                   params.target,\n",
    "                                                                                   common,\n",
    "                                                                                   tgt_private)\n",
    "                    # params.n_r = int(len(labels_T) * n_r)\n",
    "                    num_src_classes = params.num_common + params.num_src_priv\n",
    "\n",
    "                    # l2 normalization and pca\n",
    "                    feats_S, feats_T = do_l2_normalization(feats_S, feats_T)\n",
    "                    feats_S, feats_T = do_pca(feats_S, feats_T, params.pca_dim)\n",
    "                    feats_S, feats_T = do_l2_normalization(feats_S, feats_T)\n",
    "\n",
    "                    # initial\n",
    "                    feats_S, feats_T = torch.tensor(feats_S), torch.tensor(feats_T)\n",
    "                    labels_S, labels_T = torch.tensor(labels_S), torch.tensor(labels_T)\n",
    "                    feats_all = torch.cat((feats_S, feats_T), dim=0)\n",
    "\n",
    "                    t = 1\n",
    "\n",
    "                    model = train_NN(feats_S, labels_S, epochs, params, balanced=True, lr=lr, initial=True)\n",
    "                    feats_S_2, predictions_S_2 = predict_NN(model, feats_S, labels_S)\n",
    "                    feats_T_2, predictions_T_2 = predict_NN(model, feats_T, labels_T)\n",
    "\n",
    "                    assert (feats_S_2 == feats_S).all() and (feats_T_2 == feats_T).all()\n",
    "\n",
    "                    confs, cs_pseudo_labels = predictions_T_2.max(dim=1)\n",
    "                    selected = torch.tensor(select_closed_set_pseudo_labels(cs_pseudo_labels.numpy(), confs.numpy(), predictions_T_2,\n",
    "                                                                            t, params.T,\n",
    "                                                                            mode=select_reject_mode))\n",
    "                    rejected = torch.tensor(select_initial_rejected(confs, predictions_T_2, params.n_r, mode=select_reject_mode))\n",
    "                    selected = selected * (1 - rejected)\n",
    "\n",
    "                    pseudo_labels = cs_pseudo_labels.clone()\n",
    "                    pseudo_labels[rejected == 1] = num_src_classes\n",
    "                    pseudo_labels[(rejected == 0) * (selected == 0)] = -1\n",
    "\n",
    "                    metrics = evaluate_T(params.num_common, params.num_src_priv, params.num_tgt_priv,\n",
    "                                         labels_T.numpy(), cs_pseudo_labels.numpy(), rejected.numpy())\n",
    "                    where = torch.where((selected == 1) + (rejected == 1))[0]\n",
    "                    metrics_selected = evaluate_T(params.num_common, params.num_src_priv, params.num_tgt_priv,\n",
    "                                                  labels_T[where].numpy(), cs_pseudo_labels[where].numpy(),\n",
    "                                                  rejected[where].numpy())\n",
    "                    print('______')\n",
    "                    print(f'Iteration t={t}')\n",
    "                    print('all: ', format_measures(metrics))\n",
    "                    print('selected: ', format_measures(metrics_selected))\n",
    "\n",
    "                    for t in range(2, params.T):\n",
    "                        model = train_NN_N_plus_One(feats_all, torch.cat((labels_S, pseudo_labels), axis=0), epochs, params, balanced=True, lr=lr)\n",
    "                        feats_S_2, preds_S_2 = predict_NN(model, feats_S, labels_S)\n",
    "                        feats_T_2, preds_T_2 = predict_NN(model, feats_T, labels_T)\n",
    "                        assert (feats_S_2 == feats_S).all() and (feats_T_2 == feats_T).all()\n",
    "\n",
    "                        confs, cs_pseudo_labels = preds_T_2.max(dim=1)\n",
    "                        selected = torch.tensor(select_closed_set_pseudo_labels(cs_pseudo_labels.numpy(), confs.numpy(), t, params.T, preds_T_2, select_reject_mode))\n",
    "                        pseudo_labels = cs_pseudo_labels.clone()\n",
    "                        pseudo_labels[selected == 0] = -1\n",
    "                        print('Selected CNT:', len(selected[selected != 0]), '/', len(selected))\n",
    "\n",
    "\n",
    "                        rejected = torch.zeros_like(pseudo_labels)\n",
    "                        rejected[pseudo_labels == num_src_classes] = 1\n",
    "\n",
    "                        metrics = evaluate_T(params.num_common, params.num_src_priv, params.num_tgt_priv, labels_T.numpy(), cs_pseudo_labels.numpy(), rejected.numpy())\n",
    "                        where = torch.where((selected == 1) + (rejected == 1))[0]\n",
    "                        metrics_selected = evaluate_T(params.num_common, params.num_src_priv, params.num_tgt_priv, labels_T[where].numpy(), cs_pseudo_labels[where].numpy(), rejected[where].numpy())\n",
    "                        print('______')\n",
    "                        print(f'Iteration t={t}')\n",
    "                        print('all: ', format_measures(metrics))\n",
    "                        print('selected: ', format_measures(metrics_selected))\n",
    "\n",
    "                    print((pseudo_labels == -1).sum())\n",
    "\n",
    "                    _rejected = rejected\n",
    "                    metrics = evaluate_T(params.num_common, params.num_src_priv, params.num_tgt_priv, labels_T.numpy(), cs_pseudo_labels.numpy(), _rejected.numpy())\n",
    "                    print('all: ', format_measures(metrics))\n",
    "\n",
    "                    results = results.append({'source': source, 'target': target, 'desc': format_measures(metrics), 'lr': lr, 'seed': seed, 'n_r': n_r, 'epochs': epochs}, ignore_index=True)"
   ]
  },
  {
   "cell_type": "code",
   "execution_count": 13,
   "metadata": {
    "pycharm": {
     "name": "#%%\n"
    }
   },
   "outputs": [],
   "source": [
    "results.to_csv('../all_results/results/dcc__conf__small__NN_N+1__nn_raw.csv', header=True, index=False)"
   ]
  }
 ],
 "metadata": {
  "interpreter": {
   "hash": "87c3e150e0f22e62286b0675a541f4baa4e53a56f1434145374688b05f7921a7"
  },
  "kernelspec": {
   "display_name": "Python 3 (ipykernel)",
   "language": "python",
   "name": "python3"
  },
  "language_info": {
   "codemirror_mode": {
    "name": "ipython",
    "version": 3
   },
   "file_extension": ".py",
   "mimetype": "text/x-python",
   "name": "python",
   "nbconvert_exporter": "python",
   "pygments_lexer": "ipython3",
   "version": "3.8.12"
  }
 },
 "nbformat": 4,
 "nbformat_minor": 2
}