{
 "cells": [
  {
   "cell_type": "code",
   "execution_count": null,
   "metadata": {},
   "outputs": [],
   "source": [
    "import os\n",
    "import pickle\n",
    "from modules.logging.format_utils import format_measures\n",
    "from modules.collecting.results_collector import DataFrameCollector\n",
    "from modules.logging.logger import DefaultLogger\n",
    "from modules.algorithms.base.OSLPP import Params\n",
    "from modules.selection.uncertanties import SelectRejectMode\n",
    "from modules.algorithms.nn.OSLPP_NN_UTILS import train_osda"
   ]
  },
  {
   "cell_type": "code",
   "execution_count": null,
   "metadata": {},
   "outputs": [],
   "source": [
    "with open('experiments/configs/small_datasets.pkl', 'rb') as f:\n",
    "    config = pickle.load(f)"
   ]
  },
  {
   "cell_type": "code",
   "execution_count": null,
   "metadata": {},
   "outputs": [],
   "source": [
    "os.environ[\"CUDA_VISIBLE_DEVICES\"] = '1'"
   ]
  },
  {
   "cell_type": "code",
   "execution_count": null,
   "metadata": {
    "pycharm": {
     "name": "#%%\n"
    },
    "scrolled": true
   },
   "outputs": [],
   "source": [
    "# from modules.logging.format_utils import format_measures\n",
    "# from modules.logging.logger import DefaultLogger\n",
    "# from modules.collecting.results_collector import DataFrameCollector\n",
    "# from modules.algorithms.nn.OSLPP_NN_UTILS import train_osda\n",
    "# from modules.algorithms.base.OSLPP import Params\n",
    "# from modules.selection.uncertanties import SelectRejectMode\n",
    "\n",
    "# results = DataFrameCollector({'source': [], 'target': [], 'desc': [], 'lr': [], 'seed': [], 'epochs': [], 'tops': []})\n",
    "# logger = DefaultLogger()\n",
    "# for (source, target), (common, tgt_private) in config.items():\n",
    "#     for epochs in [10]:\n",
    "#         for lr in [1e-3]:\n",
    "#             for n_r in [0.1, 0.25]:\n",
    "# #                 for weights in [[0.33, 0.33, 0.33], [0.2, 0.4, 0.4], [0.4, 0.2, 0.4], [0.4, 0.4, 0.2]]:\n",
    "#                  for tops in [[SelectRejectMode.CONFIDENCE, SelectRejectMode.ENTROPY],\n",
    "#                                 [SelectRejectMode.CONFIDENCE, SelectRejectMode.MARGIN],\n",
    "#                                 [SelectRejectMode.ENTROPY, SelectRejectMode.MARGIN],\n",
    "#                                 [SelectRejectMode.CONFIDENCE, SelectRejectMode.ENTROPY, SelectRejectMode.MARGIN]]:\n",
    "#                     for seed in range(5):\n",
    "#                         params = Params(pca_dim=512, proj_dim=128, T=10, n_r=n_r, n_r_ratio=None,\n",
    "#                                     dataset='DomainNet_DCC', source=source, target=target,\n",
    "#                                     num_common=len(common), num_src_priv=0, num_tgt_priv=len(tgt_private))\n",
    "#                         metrics = train_osda(params, lr, epochs, SelectRejectMode.TOPS, seed, common, tgt_private, logger, tops=tops)\n",
    "#                         results.collect({'source': source, 'target': target, 'desc': format_measures(metrics), 'lr': lr, 'seed': seed, 'tops': tops, 'epochs': epochs})\n",
    "# results.get_result().to_csv('./all_results/results_weighted_scores/dcc__conf__small__NEW__combined_tops__nn_raw.csv', header=True, index=False)"
   ]
  },
  {
   "cell_type": "code",
   "execution_count": null,
   "metadata": {
    "scrolled": true
   },
   "outputs": [],
   "source": [
    "results = DataFrameCollector({'source': [], 'target': [], 'desc': [], 'lr': [], 'seed': [], 'epochs': [], 'tops': []})\n",
    "select_reject_mode = SelectRejectMode.TOPS_MULTI\n",
    "logger = DefaultLogger()\n",
    "for (source, target), (common, tgt_private) in config.items():\n",
    "#     if source != 'painting' and target != 'sketch':\n",
    "#         continue\n",
    "    for epochs in [10]:\n",
    "        for lr in [1e-3]:\n",
    "            for n_r in [0.1, 0.15, 0.25]:\n",
    "#                 for weights in [[0.33, 0.33, 0.33], [0.2, 0.4, 0.4], [0.4, 0.2, 0.4], [0.4, 0.4, 0.2]]:\n",
    "                for tops in [\n",
    "                    [SelectRejectMode.CONFIDENCE_MULTI, SelectRejectMode.MARGIN_MULTI],\n",
    "                                [SelectRejectMode.CONFIDENCE_MULTI, SelectRejectMode.TOTAL_U],\n",
    "                                [SelectRejectMode.TOTAL_U, SelectRejectMode.MARGIN_MULTI],\n",
    "                                [SelectRejectMode.CONFIDENCE_MULTI, SelectRejectMode.TOTAL_U, SelectRejectMode.MARGIN_MULTI]\n",
    "                ]:\n",
    "                    for seed in range(3):\n",
    "                        print(tops)\n",
    "                        params = Params(pca_dim=512, proj_dim=128, T=10, n_r=n_r, n_r_ratio=None,\n",
    "                                        dataset='DomainNet_DCC', source=source, target=target,\n",
    "                                        num_common=len(common), num_src_priv=0, num_tgt_priv=len(tgt_private))\n",
    "                        metrics = train_osda(params, lr, epochs, 5, select_reject_mode, seed, common, tgt_private, logger, tops=tops)\n",
    "                        results.collect({'source': source, 'target': target, 'desc': format_measures(metrics), 'lr': lr, 'seed': seed, 'n_r': n_r, 'epochs': epochs, 'tops': tops})\n",
    "results.get_result().to_csv('./all_results/results_weighted_scores/dcc__conf__small__NEW__tops__5_models__nn_raw.csv', header=True, index=False)"
   ]
  },
  {
   "cell_type": "code",
   "execution_count": null,
   "metadata": {},
   "outputs": [],
   "source": []
  }
 ],
 "metadata": {
  "interpreter": {
   "hash": "87c3e150e0f22e62286b0675a541f4baa4e53a56f1434145374688b05f7921a7"
  },
  "kernelspec": {
   "display_name": "Python 3 (ipykernel)",
   "language": "python",
   "name": "python3"
  },
  "language_info": {
   "codemirror_mode": {
    "name": "ipython",
    "version": 3
   },
   "file_extension": ".py",
   "mimetype": "text/x-python",
   "name": "python",
   "nbconvert_exporter": "python",
   "pygments_lexer": "ipython3",
   "version": "3.8.12"
  }
 },
 "nbformat": 4,
 "nbformat_minor": 2
}
