{
 "cells": [
  {
   "cell_type": "code",
   "execution_count": 2,
   "metadata": {},
   "outputs": [],
   "source": [
    "import os\n",
    "import pickle\n",
    "\n",
    "from modules.logging.format_utils import format_measures\n",
    "from modules.collecting.results_collector import DataFrameCollector\n",
    "from modules.logging.logger import DefaultLogger\n",
    "from modules.algorithms.base.OSLPP import Params\n",
    "from modules.selection.uncertanties import SelectRejectMode\n",
    "from modules.algorithms.nn.OSLPP_NN_UTILS import train"
   ]
  },
  {
   "cell_type": "code",
   "execution_count": 3,
   "metadata": {},
   "outputs": [],
   "source": [
    "with open('experiments/configs/small_datasets.pkl', 'rb') as f:\n",
    "    config = pickle.load(f)"
   ]
  },
  {
   "cell_type": "code",
   "execution_count": 4,
   "metadata": {},
   "outputs": [],
   "source": [
    "os.environ[\"CUDA_VISIBLE_DEVICES\"] = '1'"
   ]
  },
  {
   "cell_type": "code",
   "execution_count": 5,
   "metadata": {},
   "outputs": [],
   "source": [
    "# sources = ['art', 'clipart', 'product', 'real_world']\n",
    "# targets = ['art', 'clipart', 'product', 'real_world']"
   ]
  },
  {
   "cell_type": "code",
   "execution_count": 6,
   "metadata": {},
   "outputs": [],
   "source": [
    "# sources = ['amazon', 'dslr', 'webcam']\n",
    "# targets = ['amazon', 'dslr', 'webcam']"
   ]
  },
  {
   "cell_type": "code",
   "execution_count": 7,
   "metadata": {},
   "outputs": [],
   "source": [
    "# sources = ['painting_train', 'real_train', 'sketch_train']\n",
    "# targets = ['painting_train', 'real_train', 'sketch_train']"
   ]
  },
  {
   "cell_type": "code",
   "execution_count": 8,
   "metadata": {},
   "outputs": [],
   "source": [
    "# sources = ['train'] \n",
    "# targets = ['validation']"
   ]
  },
  {
   "cell_type": "code",
   "execution_count": null,
   "metadata": {
    "pycharm": {
     "name": "#%%\n",
     "is_executing": true
    },
    "scrolled": true
   },
   "outputs": [],
   "source": [
    "results = DataFrameCollector({'source': [], 'target': [], 'desc': [], 'lr': [], 'seed': [], 'epochs': []})\n",
    "select_reject_mode = SelectRejectMode.CONFIDENCE\n",
    "logger = DefaultLogger()\n",
    "for (source, target), (common, tgt_private) in config.items():\n",
    "    for epochs in [10]:\n",
    "        for lr in [1e-3]:\n",
    "            for n_r in [0.1, 0.15, 0.25]:\n",
    "                for seed in range(9):\n",
    "                    params = Params(pca_dim=512, proj_dim=128, T=10, n_r=n_r, n_r_ratio=None,\n",
    "                                    dataset='DomainNet_DCC', source=source, target=target,\n",
    "                                    num_common=len(common), num_src_priv=0, num_tgt_priv=len(tgt_private))\n",
    "                    metrics = train(params, lr, epochs, 5, select_reject_mode, seed, common, tgt_private, logger)\n",
    "                    results.collect({'source': source, 'target': target, 'desc': format_measures(metrics), 'lr': lr, 'seed': seed, 'n_r': n_r, 'epochs': epochs})\n",
    "results.get_result().to_csv('../all_results/results/dcc__conf__small__NEW__variable_epochs__multi_mean_std__nn_raw.csv', header=True, index=False)"
   ]
  },
  {
   "cell_type": "code",
   "execution_count": null,
   "metadata": {
    "pycharm": {
     "name": "#%%\n"
    }
   },
   "outputs": [],
   "source": []
  }
 ],
 "metadata": {
  "interpreter": {
   "hash": "87c3e150e0f22e62286b0675a541f4baa4e53a56f1434145374688b05f7921a7"
  },
  "kernelspec": {
   "display_name": "Python 3 (ipykernel)",
   "language": "python",
   "name": "python3"
  },
  "language_info": {
   "codemirror_mode": {
    "name": "ipython",
    "version": 3
   },
   "file_extension": ".py",
   "mimetype": "text/x-python",
   "name": "python",
   "nbconvert_exporter": "python",
   "pygments_lexer": "ipython3",
   "version": "3.8.12"
  }
 },
 "nbformat": 4,
 "nbformat_minor": 2
}