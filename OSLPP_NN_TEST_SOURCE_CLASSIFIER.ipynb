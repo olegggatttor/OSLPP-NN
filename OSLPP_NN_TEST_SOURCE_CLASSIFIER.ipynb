{
 "cells": [
  {
   "cell_type": "code",
   "execution_count": 90,
   "metadata": {},
   "outputs": [],
   "source": [
    "import torch\n",
    "import os\n",
    "import pandas as pd\n",
    "import pickle\n",
    "from sklearn.metrics import classification_report\n",
    "from sklearn.model_selection import StratifiedKFold"
   ]
  },
  {
   "cell_type": "code",
   "execution_count": 22,
   "metadata": {},
   "outputs": [],
   "source": [
    "with open('small_datasets.pkl', 'rb') as f:\n",
    "    config = pickle.load(f)"
   ]
  },
  {
   "cell_type": "code",
   "execution_count": 23,
   "metadata": {},
   "outputs": [],
   "source": [
    "os.environ[\"CUDA_VISIBLE_DEVICES\"] = '1'"
   ]
  },
  {
   "cell_type": "code",
   "execution_count": null,
   "metadata": {
    "scrolled": true,
    "pycharm": {
     "is_executing": true
    }
   },
   "outputs": [],
   "source": [
    "from modules.algorithms.nn.OSLPP_NN_UTILS import train_NN, predict_NN\n",
    "from modules.loaders.osda import create_datasets_sub\n",
    "from modules.algorithms.base.OSLPP import Params, do_l2_normalization, do_pca\n",
    "from modules.loaders.common import set_seed\n",
    "\n",
    "results = pd.DataFrame({'source': [],  'lr': [], 'seed': [], 'epochs': [], 'report': []})\n",
    "used_src = set()\n",
    "splitter = StratifiedKFold(n_splits=5)\n",
    "for (source, target), (common, tgt_private) in config.items():\n",
    "    if source in used_src:\n",
    "        continue\n",
    "    used_src.add(source)\n",
    "    for epochs in [10, 50]:\n",
    "        for lr in [1e-3, 1e-4]:\n",
    "                set_seed(0)\n",
    "                print(source, '->', target, 'lr=', lr, 'seed=', 0)\n",
    "                params = Params(pca_dim=512, proj_dim=128, T=10, n_r=1200, n_r_ratio=None,\n",
    "                          dataset='DomainNet_DCC', source=source, target=target,\n",
    "                          num_common=len(common), num_src_priv=0, num_tgt_priv=len(tgt_private))\n",
    "                (feats_S, labels_S), (feats_T, labels_T) = create_datasets_sub(params.dataset,\n",
    "                                                                               params.source,\n",
    "                                                                               params.target,\n",
    "                                                                               common,\n",
    "                                                                               tgt_private)\n",
    "                num_src_classes = params.num_common + params.num_src_priv\n",
    "\n",
    "                # l2 normalization and pca\n",
    "                feats_S, feats_T = do_l2_normalization(feats_S, feats_T)\n",
    "                feats_S, feats_T = do_pca(feats_S, feats_T, params.pca_dim)\n",
    "                feats_S, feats_T = do_l2_normalization(feats_S, feats_T)\n",
    "\n",
    "                # initial\n",
    "                feats_S, feats_T = torch.tensor(feats_S), torch.tensor(feats_T)\n",
    "                labels_S, labels_T = torch.tensor(labels_S), torch.tensor(labels_T)\n",
    "\n",
    "                for i, (train_idx, test_idx) in enumerate(splitter.split(feats_S, labels_S)):\n",
    "                    feats_S_train, lbls_S_train = feats_S[train_idx], labels_S[train_idx]\n",
    "                    feats_S_test, lbls_S_test = feats_S[test_idx], labels_S[test_idx]\n",
    "\n",
    "                    model = train_NN(feats_S_train, lbls_S_train, epochs, params, balanced=True, lr=lr, initial=True)\n",
    "                    feats_S_2, preds_S_2 = predict_NN(model, feats_S_test, lbls_S_test)\n",
    "                    assert (feats_S_2 == feats_S_test).all()\n",
    "\n",
    "                    confs, preds_labels = preds_S_2.max(dim=1)\n",
    "\n",
    "                    np_preds = preds_labels.numpy()\n",
    "                    np_labels = lbls_S_test.numpy()\n",
    "\n",
    "                    report = classification_report(np_labels, np_preds, output_dict=True)\n",
    "\n",
    "                    results = results.append({'source': source, 'lr': lr, 'seed': i, 'epochs': epochs, 'report': report}, ignore_index=True)"
   ]
  },
  {
   "cell_type": "code",
   "execution_count": 94,
   "metadata": {
    "pycharm": {
     "name": "#%%\n"
    }
   },
   "outputs": [],
   "source": [
    "results.to_csv('results/dcc__source_only.csv', header=True, index=False)"
   ]
  }
 ],
 "metadata": {
  "interpreter": {
   "hash": "87c3e150e0f22e62286b0675a541f4baa4e53a56f1434145374688b05f7921a7"
  },
  "kernelspec": {
   "display_name": "Python 3 (ipykernel)",
   "language": "python",
   "name": "python3"
  },
  "language_info": {
   "codemirror_mode": {
    "name": "ipython",
    "version": 3
   },
   "file_extension": ".py",
   "mimetype": "text/x-python",
   "name": "python",
   "nbconvert_exporter": "python",
   "pygments_lexer": "ipython3",
   "version": "3.8.12"
  }
 },
 "nbformat": 4,
 "nbformat_minor": 2
}