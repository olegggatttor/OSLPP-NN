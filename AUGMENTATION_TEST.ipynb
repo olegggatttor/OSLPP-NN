{
 "cells": [
  {
   "cell_type": "code",
   "execution_count": 1,
   "metadata": {},
   "outputs": [],
   "source": [
    "import os\n",
    "import pickle\n",
    "\n",
    "\n",
    "from modules.logging.logger import DefaultLogger\n",
    "from modules.algorithms.base.OSLPP import Params\n",
    "from modules.selection.uncertanties import SelectRejectMode\n",
    "from modules.algorithms.nn.OSLPP_NN_UTILS import train"
   ]
  },
  {
   "cell_type": "code",
   "execution_count": 2,
   "metadata": {},
   "outputs": [],
   "source": [
    "with open('experiments/configs/small_datasets.pkl', 'rb') as f:\n",
    "    config = pickle.load(f)"
   ]
  },
  {
   "cell_type": "code",
   "execution_count": 3,
   "metadata": {},
   "outputs": [],
   "source": [
    "os.environ[\"CUDA_VISIBLE_DEVICES\"] = '1'"
   ]
  },
  {
   "cell_type": "code",
   "execution_count": null,
   "metadata": {
    "pycharm": {
     "name": "#%%\n",
     "is_executing": true
    },
    "scrolled": true
   },
   "outputs": [],
   "source": [
    "from modules.augmentation.transformations import Augmentation\n",
    "\n",
    "select_reject_mode = SelectRejectMode.CONFIDENCE\n",
    "logger = DefaultLogger()\n",
    "for (source, target), (common, tgt_private) in config.items():\n",
    "    for transform in [Augmentation.TRANSLATE, Augmentation.ROTATE, Augmentation.FLIP, Augmentation.SCALE, Augmentation.AFFINE_DEGREES, Augmentation.BRIGHTNESS, Augmentation.CONTRAST, Augmentation.BLUR]:\n",
    "        for epochs in [10]:\n",
    "            for lr in [1e-3]:\n",
    "                for n_r in [0.15]:\n",
    "                    for seed in range(1):\n",
    "                        params = Params(pca_dim=512, proj_dim=128, T=10, n_r=n_r, n_r_ratio=None,\n",
    "                                        dataset='DomainNet_DCC', source=source, target=target,\n",
    "                                        num_common=len(common), num_src_priv=0, num_tgt_priv=len(tgt_private))\n",
    "                        metrics = train(params, lr, epochs, 1, select_reject_mode, seed, common, tgt_private, logger, augmentation_test=True, transform=transform)"
   ]
  },
  {
   "cell_type": "code",
   "execution_count": 7,
   "metadata": {
    "pycharm": {
     "name": "#%%\n"
    }
   },
   "outputs": [],
   "source": [
    "logger.df.to_csv('aug_tests.csv', header=True, index=False)"
   ]
  },
  {
   "cell_type": "code",
   "execution_count": null,
   "outputs": [],
   "source": [
    "import pandas as pd"
   ],
   "metadata": {
    "collapsed": false,
    "pycharm": {
     "name": "#%%\n"
    }
   }
  },
  {
   "cell_type": "code",
   "execution_count": null,
   "outputs": [],
   "source": [
    "df = pd.read_csv('aug_tests.csv')"
   ],
   "metadata": {
    "collapsed": false,
    "pycharm": {
     "name": "#%%\n"
    }
   }
  },
  {
   "cell_type": "code",
   "execution_count": 10,
   "metadata": {},
   "outputs": [],
   "source": [
    "df['diff_common-private'] = df['similarity_common'] - df['similarity_private']"
   ]
  },
  {
   "cell_type": "code",
   "execution_count": 12,
   "metadata": {},
   "outputs": [
    {
     "data": {
      "text/html": [
       "<div>\n",
       "<style scoped>\n",
       "    .dataframe tbody tr th:only-of-type {\n",
       "        vertical-align: middle;\n",
       "    }\n",
       "\n",
       "    .dataframe tbody tr th {\n",
       "        vertical-align: top;\n",
       "    }\n",
       "\n",
       "    .dataframe thead tr th {\n",
       "        text-align: left;\n",
       "    }\n",
       "\n",
       "    .dataframe thead tr:last-of-type th {\n",
       "        text-align: right;\n",
       "    }\n",
       "</style>\n",
       "<table border=\"1\" class=\"dataframe\">\n",
       "  <thead>\n",
       "    <tr>\n",
       "      <th></th>\n",
       "      <th colspan=\"6\" halign=\"left\">&lt;lambda&gt;</th>\n",
       "    </tr>\n",
       "    <tr>\n",
       "      <th>name</th>\n",
       "      <th>PR</th>\n",
       "      <th>PS</th>\n",
       "      <th>RP</th>\n",
       "      <th>RS</th>\n",
       "      <th>SP</th>\n",
       "      <th>SR</th>\n",
       "    </tr>\n",
       "    <tr>\n",
       "      <th>transform</th>\n",
       "      <th></th>\n",
       "      <th></th>\n",
       "      <th></th>\n",
       "      <th></th>\n",
       "      <th></th>\n",
       "      <th></th>\n",
       "    </tr>\n",
       "  </thead>\n",
       "  <tbody>\n",
       "    <tr>\n",
       "      <th>Augmentation.TRANSLATE</th>\n",
       "      <td>0,01</td>\n",
       "      <td>-0,04</td>\n",
       "      <td>0,02</td>\n",
       "      <td>-0,01</td>\n",
       "      <td>-0,02</td>\n",
       "      <td>-0,28</td>\n",
       "    </tr>\n",
       "    <tr>\n",
       "      <th>Augmentation.SCALE</th>\n",
       "      <td>-0,03</td>\n",
       "      <td>-0,04</td>\n",
       "      <td>-0,01</td>\n",
       "      <td>-0,07</td>\n",
       "      <td>-0,11</td>\n",
       "      <td>-0,33</td>\n",
       "    </tr>\n",
       "    <tr>\n",
       "      <th>Augmentation.ROTATE</th>\n",
       "      <td>-0,01</td>\n",
       "      <td>-0,0</td>\n",
       "      <td>-0,01</td>\n",
       "      <td>-0,03</td>\n",
       "      <td>-0,01</td>\n",
       "      <td>-0,2</td>\n",
       "    </tr>\n",
       "    <tr>\n",
       "      <th>Augmentation.FLIP</th>\n",
       "      <td>-0,19</td>\n",
       "      <td>-0,11</td>\n",
       "      <td>-0,13</td>\n",
       "      <td>-0,21</td>\n",
       "      <td>-0,11</td>\n",
       "      <td>-0,34</td>\n",
       "    </tr>\n",
       "    <tr>\n",
       "      <th>Augmentation.CONTRAST</th>\n",
       "      <td>-0,27</td>\n",
       "      <td>-0,09</td>\n",
       "      <td>-0,23</td>\n",
       "      <td>-0,19</td>\n",
       "      <td>-0,21</td>\n",
       "      <td>-0,4</td>\n",
       "    </tr>\n",
       "    <tr>\n",
       "      <th>Augmentation.BRIGHTNESS</th>\n",
       "      <td>-0,25</td>\n",
       "      <td>-0,03</td>\n",
       "      <td>-0,16</td>\n",
       "      <td>-0,07</td>\n",
       "      <td>-0,21</td>\n",
       "      <td>-0,45</td>\n",
       "    </tr>\n",
       "    <tr>\n",
       "      <th>Augmentation.BLUR</th>\n",
       "      <td>-0,14</td>\n",
       "      <td>-0,04</td>\n",
       "      <td>-0,12</td>\n",
       "      <td>-0,06</td>\n",
       "      <td>-0,09</td>\n",
       "      <td>-0,41</td>\n",
       "    </tr>\n",
       "    <tr>\n",
       "      <th>Augmentation.AFFINE_DEGREES</th>\n",
       "      <td>0,0</td>\n",
       "      <td>-0,01</td>\n",
       "      <td>0,01</td>\n",
       "      <td>0,01</td>\n",
       "      <td>-0,0</td>\n",
       "      <td>-0,24</td>\n",
       "    </tr>\n",
       "  </tbody>\n",
       "</table>\n",
       "</div>"
      ],
      "text/plain": [
       "                            <lambda>                                   \n",
       "name                              PR     PS     RP     RS     SP     SR\n",
       "transform                                                              \n",
       "Augmentation.TRANSLATE          0,01  -0,04   0,02  -0,01  -0,02  -0,28\n",
       "Augmentation.SCALE             -0,03  -0,04  -0,01  -0,07  -0,11  -0,33\n",
       "Augmentation.ROTATE            -0,01   -0,0  -0,01  -0,03  -0,01   -0,2\n",
       "Augmentation.FLIP              -0,19  -0,11  -0,13  -0,21  -0,11  -0,34\n",
       "Augmentation.CONTRAST          -0,27  -0,09  -0,23  -0,19  -0,21   -0,4\n",
       "Augmentation.BRIGHTNESS        -0,25  -0,03  -0,16  -0,07  -0,21  -0,45\n",
       "Augmentation.BLUR              -0,14  -0,04  -0,12  -0,06  -0,09  -0,41\n",
       "Augmentation.AFFINE_DEGREES      0,0  -0,01   0,01   0,01   -0,0  -0,24"
      ]
     },
     "execution_count": 12,
     "metadata": {},
     "output_type": "execute_result"
    }
   ],
   "source": [
    "import numpy as np\n",
    "\n",
    "df['name'] = df['source'].apply(lambda x: x[0].upper()) + df['target'].apply(lambda x: x[0].upper())\n",
    "df.pivot_table(index=['transform'], columns='name', values='diff_common-private',\n",
    "               aggfunc=[lambda x: \",\".join(f\"{round(np.mean(x), 2)}\".split(\".\"))]).sort_index(key=lambda x: x, ascending=False)"
   ]
  },
  {
   "cell_type": "code",
   "execution_count": 13,
   "metadata": {},
   "outputs": [],
   "source": [
    "df['no_aug__diff_conf_common-private'] = df['no_aug_common_conf'] - df['no_aug_private_conf']\n",
    "df['no_aug__diff_margin_common-private'] = df['no_aug_common_margin'] - df['no_aug_private_margin']\n",
    "df['no_aug__diff_inv_entropy_common-private'] = df['no_aug_common_inv_entropy'] - df['no_aug_private_inv_entropy']"
   ]
  },
  {
   "cell_type": "code",
   "execution_count": 16,
   "metadata": {},
   "outputs": [
    {
     "data": {
      "text/html": [
       "<div>\n",
       "<style scoped>\n",
       "    .dataframe tbody tr th:only-of-type {\n",
       "        vertical-align: middle;\n",
       "    }\n",
       "\n",
       "    .dataframe tbody tr th {\n",
       "        vertical-align: top;\n",
       "    }\n",
       "\n",
       "    .dataframe thead tr th {\n",
       "        text-align: left;\n",
       "    }\n",
       "\n",
       "    .dataframe thead tr:last-of-type th {\n",
       "        text-align: right;\n",
       "    }\n",
       "</style>\n",
       "<table border=\"1\" class=\"dataframe\">\n",
       "  <thead>\n",
       "    <tr>\n",
       "      <th></th>\n",
       "      <th colspan=\"6\" halign=\"left\">&lt;lambda&gt;</th>\n",
       "    </tr>\n",
       "    <tr>\n",
       "      <th>name</th>\n",
       "      <th>PR</th>\n",
       "      <th>PS</th>\n",
       "      <th>RP</th>\n",
       "      <th>RS</th>\n",
       "      <th>SP</th>\n",
       "      <th>SR</th>\n",
       "    </tr>\n",
       "    <tr>\n",
       "      <th>transform</th>\n",
       "      <th></th>\n",
       "      <th></th>\n",
       "      <th></th>\n",
       "      <th></th>\n",
       "      <th></th>\n",
       "      <th></th>\n",
       "    </tr>\n",
       "  </thead>\n",
       "  <tbody>\n",
       "    <tr>\n",
       "      <th>Augmentation.TRANSLATE</th>\n",
       "      <td>0,02</td>\n",
       "      <td>0,01</td>\n",
       "      <td>0,01</td>\n",
       "      <td>0,01</td>\n",
       "      <td>0,01</td>\n",
       "      <td>0,02</td>\n",
       "    </tr>\n",
       "    <tr>\n",
       "      <th>Augmentation.SCALE</th>\n",
       "      <td>0,02</td>\n",
       "      <td>0,01</td>\n",
       "      <td>0,01</td>\n",
       "      <td>0,01</td>\n",
       "      <td>0,01</td>\n",
       "      <td>0,02</td>\n",
       "    </tr>\n",
       "    <tr>\n",
       "      <th>Augmentation.ROTATE</th>\n",
       "      <td>0,02</td>\n",
       "      <td>0,01</td>\n",
       "      <td>0,01</td>\n",
       "      <td>0,01</td>\n",
       "      <td>0,01</td>\n",
       "      <td>0,01</td>\n",
       "    </tr>\n",
       "    <tr>\n",
       "      <th>Augmentation.FLIP</th>\n",
       "      <td>0,02</td>\n",
       "      <td>0,01</td>\n",
       "      <td>0,01</td>\n",
       "      <td>0,01</td>\n",
       "      <td>0,01</td>\n",
       "      <td>0,02</td>\n",
       "    </tr>\n",
       "    <tr>\n",
       "      <th>Augmentation.CONTRAST</th>\n",
       "      <td>0,02</td>\n",
       "      <td>0,01</td>\n",
       "      <td>0,01</td>\n",
       "      <td>0,01</td>\n",
       "      <td>0,01</td>\n",
       "      <td>0,02</td>\n",
       "    </tr>\n",
       "    <tr>\n",
       "      <th>Augmentation.BRIGHTNESS</th>\n",
       "      <td>0,02</td>\n",
       "      <td>0,01</td>\n",
       "      <td>0,01</td>\n",
       "      <td>0,01</td>\n",
       "      <td>0,01</td>\n",
       "      <td>0,02</td>\n",
       "    </tr>\n",
       "    <tr>\n",
       "      <th>Augmentation.BLUR</th>\n",
       "      <td>0,02</td>\n",
       "      <td>0,01</td>\n",
       "      <td>0,01</td>\n",
       "      <td>0,01</td>\n",
       "      <td>0,01</td>\n",
       "      <td>0,02</td>\n",
       "    </tr>\n",
       "    <tr>\n",
       "      <th>Augmentation.AFFINE_DEGREES</th>\n",
       "      <td>0,02</td>\n",
       "      <td>0,01</td>\n",
       "      <td>0,01</td>\n",
       "      <td>0,01</td>\n",
       "      <td>0,01</td>\n",
       "      <td>0,02</td>\n",
       "    </tr>\n",
       "  </tbody>\n",
       "</table>\n",
       "</div>"
      ],
      "text/plain": [
       "                            <lambda>                              \n",
       "name                              PR    PS    RP    RS    SP    SR\n",
       "transform                                                         \n",
       "Augmentation.TRANSLATE          0,02  0,01  0,01  0,01  0,01  0,02\n",
       "Augmentation.SCALE              0,02  0,01  0,01  0,01  0,01  0,02\n",
       "Augmentation.ROTATE             0,02  0,01  0,01  0,01  0,01  0,01\n",
       "Augmentation.FLIP               0,02  0,01  0,01  0,01  0,01  0,02\n",
       "Augmentation.CONTRAST           0,02  0,01  0,01  0,01  0,01  0,02\n",
       "Augmentation.BRIGHTNESS         0,02  0,01  0,01  0,01  0,01  0,02\n",
       "Augmentation.BLUR               0,02  0,01  0,01  0,01  0,01  0,02\n",
       "Augmentation.AFFINE_DEGREES     0,02  0,01  0,01  0,01  0,01  0,02"
      ]
     },
     "execution_count": 16,
     "metadata": {},
     "output_type": "execute_result"
    }
   ],
   "source": [
    "import numpy as np\n",
    "\n",
    "df['name'] = df['source'].apply(lambda x: x[0].upper()) + df['target'].apply(lambda x: x[0].upper())\n",
    "df.pivot_table(index=['transform'], columns='name', values='no_aug__diff_inv_entropy_common-private',\n",
    "               aggfunc=[lambda x: \",\".join(f\"{round(np.mean(x), 2)}\".split(\".\"))]).sort_index(key=lambda x: x, ascending=False)"
   ]
  },
  {
   "cell_type": "code",
   "execution_count": null,
   "metadata": {},
   "outputs": [],
   "source": []
  }
 ],
 "metadata": {
  "interpreter": {
   "hash": "87c3e150e0f22e62286b0675a541f4baa4e53a56f1434145374688b05f7921a7"
  },
  "kernelspec": {
   "display_name": "Python 3 (ipykernel)",
   "language": "python",
   "name": "python3"
  },
  "language_info": {
   "codemirror_mode": {
    "name": "ipython",
    "version": 3
   },
   "file_extension": ".py",
   "mimetype": "text/x-python",
   "name": "python",
   "nbconvert_exporter": "python",
   "pygments_lexer": "ipython3",
   "version": "3.8.12"
  }
 },
 "nbformat": 4,
 "nbformat_minor": 2
}