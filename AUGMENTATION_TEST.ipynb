{
 "cells": [
  {
   "cell_type": "code",
   "execution_count": null,
   "metadata": {},
   "outputs": [],
   "source": [
    "\n",
    "import os\n",
    "import pickle\n",
    "\n",
    "from modules.logging.format_utils import format_measures\n",
    "from modules.collecting.results_collector import DataFrameCollector\n",
    "from modules.logging.logger import DefaultLogger\n",
    "from modules.algorithms.base.OSLPP import Params\n",
    "from modules.selection.uncertanties import SelectRejectMode\n",
    "from modules.algorithms.nn.OSLPP_NN_UTILS import train_osda"
   ]
  },
  {
   "cell_type": "code",
   "execution_count": null,
   "metadata": {},
   "outputs": [],
   "source": [
    "with open('experiments/configs/small_datasets.pkl', 'rb') as f:\n",
    "    config = pickle.load(f)"
   ]
  },
  {
   "cell_type": "code",
   "execution_count": null,
   "metadata": {},
   "outputs": [],
   "source": [
    "os.environ[\"CUDA_VISIBLE_DEVICES\"] = '1'"
   ]
  },
  {
   "cell_type": "code",
   "execution_count": null,
   "metadata": {
    "pycharm": {
     "name": "#%%\n"
    },
    "scrolled": true
   },
   "outputs": [],
   "source": [
    "from modules.augmentation.transformations import Augmentation\n",
    "\n",
    "select_reject_mode = SelectRejectMode.CONFIDENCE\n",
    "logger = DefaultLogger()\n",
    "for (source, target), (common, tgt_private) in config.items():\n",
    "    for transform in [Augmentation.TRANSLATE, Augmentation.ROTATE, Augmentation.FLIP, Augmentation.SCALE, Augmentation.AFFINE_DEGREES, Augmentation.BRIGHTNESS, Augmentation.CONTRAST, Augmentation.BLUR]:\n",
    "        for epochs in [10]:\n",
    "            for lr in [1e-3]:\n",
    "                for n_r in [0.15]:\n",
    "                    for seed in range(1):\n",
    "                        params = Params(pca_dim=512, proj_dim=128, T=10, n_r=n_r, n_r_ratio=None,\n",
    "                                        dataset='DomainNet_DCC', source=source, target=target,\n",
    "                                        num_common=len(common), num_src_priv=0, num_tgt_priv=len(tgt_private))\n",
    "                        metrics = train_osda(params, lr, epochs, 1, select_reject_mode, seed, common, tgt_private, logger, augmentation_test=True, transform=transform)"
   ]
  },
  {
   "cell_type": "code",
   "execution_count": null,
   "metadata": {
    "pycharm": {
     "name": "#%%\n"
    }
   },
   "outputs": [],
   "source": [
    "logger.df.to_csv('aug_tests.csv', header=True, index=False)"
   ]
  },
  {
   "cell_type": "code",
   "execution_count": null,
   "metadata": {},
   "outputs": [],
   "source": [
    "import pandas as pd"
   ]
  },
  {
   "cell_type": "code",
   "execution_count": null,
   "metadata": {},
   "outputs": [],
   "source": [
    "df = pd.read_csv('aug_tests.csv')"
   ]
  },
  {
   "cell_type": "code",
   "execution_count": null,
   "metadata": {},
   "outputs": [],
   "source": [
    "df['diff_common-private'] = df['similarity_common'] - df['similarity_private']"
   ]
  },
  {
   "cell_type": "code",
   "execution_count": null,
   "metadata": {},
   "outputs": [],
   "source": [
    "import numpy as np\n",
    "\n",
    "df['name'] = df['source'].apply(lambda x: x[0].upper()) + df['target'].apply(lambda x: x[0].upper())\n",
    "df.pivot_table(index=['transform'], columns='name', values='diff_common-private',\n",
    "               aggfunc=[lambda x: \",\".join(f\"{round(np.mean(x), 2)}\".split(\".\"))]).sort_index(key=lambda x: x, ascending=False)"
   ]
  },
  {
   "cell_type": "code",
   "execution_count": null,
   "metadata": {},
   "outputs": [],
   "source": [
    "df['no_aug__diff_conf_common-private'] = df['no_aug_common_conf'] - df['no_aug_private_conf']\n",
    "df['no_aug__diff_margin_common-private'] = df['no_aug_common_margin'] - df['no_aug_private_margin']\n",
    "df['no_aug__diff_inv_entropy_common-private'] = df['no_aug_common_inv_entropy'] - df['no_aug_private_inv_entropy']"
   ]
  },
  {
   "cell_type": "code",
   "execution_count": null,
   "metadata": {},
   "outputs": [],
   "source": [
    "import numpy as np\n",
    "\n",
    "df['name'] = df['source'].apply(lambda x: x[0].upper()) + df['target'].apply(lambda x: x[0].upper())\n",
    "df.pivot_table(index=['transform'], columns='name', values='no_aug__diff_inv_entropy_common-private',\n",
    "               aggfunc=[lambda x: \",\".join(f\"{round(np.mean(x), 2)}\".split(\".\"))]).sort_index(key=lambda x: x, ascending=False)"
   ]
  },
  {
   "cell_type": "code",
   "execution_count": null,
   "metadata": {},
   "outputs": [],
   "source": []
  }
 ],
 "metadata": {
  "interpreter": {
   "hash": "87c3e150e0f22e62286b0675a541f4baa4e53a56f1434145374688b05f7921a7"
  },
  "kernelspec": {
   "display_name": "Python 3 (ipykernel)",
   "language": "python",
   "name": "python3"
  },
  "language_info": {
   "codemirror_mode": {
    "name": "ipython",
    "version": 3
   },
   "file_extension": ".py",
   "mimetype": "text/x-python",
   "name": "python",
   "nbconvert_exporter": "python",
   "pygments_lexer": "ipython3",
   "version": "3.8.12"
  }
 },
 "nbformat": 4,
 "nbformat_minor": 2
}