{
 "cells": [
  {
   "cell_type": "code",
   "execution_count": null,
   "id": "1f247821",
   "metadata": {},
   "outputs": [],
   "source": [
    "import pickle"
   ]
  },
  {
   "cell_type": "code",
   "execution_count": null,
   "id": "6b3f2e4a",
   "metadata": {},
   "outputs": [],
   "source": [
    "with open('small_datasets.pkl', 'rb') as f:\n",
    "    config = pickle.load(f)"
   ]
  },
  {
   "cell_type": "code",
   "execution_count": null,
   "id": "1f9f80da",
   "metadata": {
    "pycharm": {
     "name": "#%%\n"
    }
   },
   "outputs": [],
   "source": [
    "from modules.algorithms.base import OSLPP\n",
    "\n",
    "# targets = ['painting_train', 'real_train', 'sketch_train']\n",
    "for (source, target), (common, tgt_private) in config.items():\n",
    "    params = OSLPP.Params(pca_dim=512, proj_dim=128, T=10, n_r=None, n_r_ratio=0.15,\n",
    "                      dataset='DomainNet_DCC', source=source, target=target,\n",
    "                      num_common=len(common), num_src_priv=0, num_tgt_priv=len(tgt_private))\n",
    "    print(source, target, OSLPP.main(params, common, tgt_private))"
   ]
  }
 ],
 "metadata": {
  "kernelspec": {
   "display_name": "autoleg 3.8",
   "language": "python",
   "name": "autoleg"
  },
  "language_info": {
   "codemirror_mode": {
    "name": "ipython",
    "version": 3
   },
   "file_extension": ".py",
   "mimetype": "text/x-python",
   "name": "python",
   "nbconvert_exporter": "python",
   "pygments_lexer": "ipython3",
   "version": "3.8.12"
  }
 },
 "nbformat": 4,
 "nbformat_minor": 5
}
