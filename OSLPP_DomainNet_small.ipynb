{
 "cells": [
  {
   "cell_type": "code",
   "execution_count": 7,
   "id": "1f247821",
   "metadata": {},
   "outputs": [],
   "source": [
    "import OSLPP\n",
    "import pickle"
   ]
  },
  {
   "cell_type": "code",
   "execution_count": 8,
   "id": "6b3f2e4a",
   "metadata": {},
   "outputs": [],
   "source": [
    "with open('small_datasets.pkl', 'rb') as f:\n",
    "    config = pickle.load(f)"
   ]
  },
  {
   "cell_type": "code",
   "execution_count": 11,
   "id": "1f9f80da",
   "metadata": {},
   "outputs": [
    {
     "name": "stdout",
     "output_type": "stream",
     "text": [
      "[ 0  1  2  3  4  5  6  7  8  9 10 11 12 13 14 15 16 17 18 19]\n",
      "[ 0  1  2  3  4  5  6  7  8  9 10 11 12 13 14 15 16 17 18 19 20]\n",
      "painting sketch {'cs/acc_i': 0.5390255825321818, 'cs/acc_c': 0.5607857844627191, 'os/recall_knw': 0.5893759165716148, 'os/recall_unk': 0.7583759227711527, 'total/acc_i': 0.5503675328708976, 'total/acc_c': 0.46629052776033414, 'total/h_score': 0.5661659180194417}\n",
      "[ 0  1  2  3  4  5  6  7  8  9 10 11 12 13 14 15 16 17 18 19]\n",
      "[ 0  1  2  3  4  5  6  7  8  9 10 11 12 13 14 15 16 17 18 19 20]\n",
      "painting real {'cs/acc_i': 0.8193756194251735, 'cs/acc_c': 0.8295025242282341, 'os/recall_knw': 0.8590188305252725, 'os/recall_unk': 0.9774291219377924, 'total/acc_i': 0.8295600170867151, 'total/acc_c': 0.7839854859135655, 'total/h_score': 0.8640954990738159}\n",
      "[ 0  1  2  3  4  5  6  7  8  9 10 11 12 13 14 15 16 17 18 19]\n",
      "[ 0  1  2  3  4  5  6  7  8  9 10 11 12 13 14 15 16 17 18 19 20]\n",
      "real painting {'cs/acc_i': 0.749425991121996, 'cs/acc_c': 0.7550791593731112, 'os/recall_knw': 0.6820756161028624, 'os/recall_unk': 0.7960632462084544, 'total/acc_i': 0.6720307308970099, 'total/acc_c': 0.6283149193099429, 'total/h_score': 0.6970405713629059}\n",
      "[ 0  1  2  3  4  5  6  7  8  9 10 11 12 13 14 15 16 17 18 19]\n",
      "[ 0  1  2  3  4  5  6  7  8  9 10 11 12 13 14 15 16 17 18 19 20]\n",
      "real sketch {'cs/acc_i': 0.5883467550923733, 'cs/acc_c': 0.5872200787962598, 'os/recall_knw': 0.5536080846360335, 'os/recall_unk': 0.814502038439138, 'total/acc_i': 0.5908672058974096, 'total/acc_c': 0.48545635007178267, 'total/h_score': 0.5952519684836709}\n",
      "[ 0  1  2  3  4  5  6  7  8  9 10 11 12 13 14 15 16 17 18 19]\n",
      "[ 0  1  2  3  4  5  6  7  8  9 10 11 12 13 14 15 16 17 18 19 20]\n",
      "sketch real {'cs/acc_i': 0.8682003050330452, 'cs/acc_c': 0.87588063592087, 'os/recall_knw': 0.831469242501271, 'os/recall_unk': 0.9365241873560276, 'total/acc_i': 0.8300636942675159, 'total/acc_c': 0.7923377629178476, 'total/h_score': 0.8541697243935719}\n",
      "[ 0  1  2  3  4  5  6  7  8  9 10 11 12 13 14 15 16 17 18 19]\n",
      "[ 0  1  2  3  4  5  6  7  8  9 10 11 12 13 14 15 16 17 18 19 20]\n",
      "sketch painting {'cs/acc_i': 0.6520047369311454, 'cs/acc_c': 0.6717112260748697, 'os/recall_knw': 0.5838267636609711, 'os/recall_unk': 0.8410404624277457, 'total/acc_i': 0.6198870837654108, 'total/acc_c': 0.5502362786471158, 'total/h_score': 0.6545073215433722}\n"
     ]
    }
   ],
   "source": [
    "# targets = ['painting_train', 'real_train', 'sketch_train']\n",
    "for (source, target), (common, tgt_private) in config.items():\n",
    "    params = OSLPP.Params(pca_dim=512, proj_dim=128, T=10, n_r=None, n_r_ratio=0.15,\n",
    "                      dataset='DomainNet_DCC', source=source, target=target,\n",
    "                      num_common=len(common), num_src_priv=0, num_tgt_priv=len(tgt_private))\n",
    "    print(source, target, OSLPP.main(params, common, tgt_private))"
   ]
  },
  {
   "cell_type": "code",
   "execution_count": 12,
   "id": "f6f2883f",
   "metadata": {},
   "outputs": [
    {
     "data": {
      "text/plain": [
       "2"
      ]
     },
     "execution_count": 12,
     "metadata": {},
     "output_type": "execute_result"
    }
   ],
   "source": [
    "1+1"
   ]
  },
  {
   "cell_type": "code",
   "execution_count": null,
   "id": "12e1c479",
   "metadata": {},
   "outputs": [],
   "source": []
  }
 ],
 "metadata": {
  "kernelspec": {
   "display_name": "autoleg 3.8",
   "language": "python",
   "name": "autoleg"
  },
  "language_info": {
   "codemirror_mode": {
    "name": "ipython",
    "version": 3
   },
   "file_extension": ".py",
   "mimetype": "text/x-python",
   "name": "python",
   "nbconvert_exporter": "python",
   "pygments_lexer": "ipython3",
   "version": "3.8.12"
  }
 },
 "nbformat": 4,
 "nbformat_minor": 5
}
