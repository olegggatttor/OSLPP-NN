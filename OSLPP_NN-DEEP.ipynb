{
 "cells": [
  {
   "cell_type": "code",
   "execution_count": null,
   "metadata": {},
   "outputs": [],
   "source": [
    "import os\n",
    "import pickle\n",
    "import gc\n",
    "from modules.logging.format_utils import format_measures\n",
    "from modules.collecting.results_collector import DataFrameCollector\n",
    "from modules.logging.logger import DefaultLogger\n",
    "from modules.algorithms.base.OSLPP import Params\n",
    "from modules.selection.uncertanties import SelectRejectMode\n",
    "from modules.algorithms.nn.OSLPP_NN_UTILS import train"
   ]
  },
  {
   "cell_type": "code",
   "execution_count": null,
   "metadata": {},
   "outputs": [],
   "source": [
    "with open('experiments/configs/small_datasets.pkl', 'rb') as f:\n",
    "    config = pickle.load(f)"
   ]
  },
  {
   "cell_type": "code",
   "execution_count": null,
   "metadata": {},
   "outputs": [],
   "source": [
    "config"
   ]
  },
  {
   "cell_type": "code",
   "execution_count": null,
   "metadata": {},
   "outputs": [],
   "source": [
    "os.environ[\"CUDA_VISIBLE_DEVICES\"] = '0,1'"
   ]
  },
  {
   "cell_type": "code",
   "execution_count": null,
   "metadata": {},
   "outputs": [],
   "source": [
    "from modules.deep.DEEPNN import get_simple_deep_nn, fix_batch_normalization_layers\n",
    "\n",
    "\n",
    "def get_model(params, n_classes):\n",
    "    m = get_simple_deep_nn(n_classes).cuda().train()\n",
    "    m.apply(fix_batch_normalization_layers)\n",
    "    return m"
   ]
  },
  {
   "cell_type": "code",
   "execution_count": null,
   "metadata": {},
   "outputs": [],
   "source": [
    "from modules.algorithms.base.OSLPP import Params, do_l2_normalization, do_pca\n",
    "from modules.loaders.common import set_seed\n",
    "\n",
    "results = DataFrameCollector({'source': [], 'target': [], 'desc': [], 'lr': [], 'seed': [], 'epochs': []})\n",
    "select_reject_mode = SelectRejectMode.CONFIDENCE\n",
    "logger = DefaultLogger()\n",
    "for (source, target), (common, tgt_private) in config.items():\n",
    "    for epochs in [50]:\n",
    "        for lr in [1e-4]:\n",
    "            for n_r in [0.15, 0.25]:\n",
    "                seed = 0\n",
    "                set_seed(seed)\n",
    "                params = Params(pca_dim=512, proj_dim=128, T=10, n_r=n_r, n_r_ratio=None,\n",
    "                          dataset='DomainNet_DCC', source=source, target=target,\n",
    "                          num_common=len(common), num_src_priv=0, num_tgt_priv=len(tgt_private))\n",
    "                metrics = train(params, lr, epochs, 1, select_reject_mode, seed, common, tgt_private, logger, get_model=get_model, is_images=True)\n",
    "                results.collect({'source': source, 'target': target, 'desc': format_measures(metrics), 'lr': lr, 'seed': seed, 'n_r': n_r, 'epochs': epochs})\n",
    "                gc.collect()\n",
    "                results.get_result().to_csv(f'all_results/results_deep/dnn_small_confidence_deep_{source}_{target}.csv', header=True, index=False)"
   ]
  },
  {
   "cell_type": "code",
   "execution_count": null,
   "metadata": {
    "pycharm": {
     "name": "#%%\n"
    }
   },
   "outputs": [],
   "source": [
    "results.to_csv('results/dnn_small_confidence_deep.csv', header=True, index=False)"
   ]
  },
  {
   "cell_type": "code",
   "execution_count": null,
   "metadata": {},
   "outputs": [],
   "source": []
  }
 ],
 "metadata": {
  "interpreter": {
   "hash": "87c3e150e0f22e62286b0675a541f4baa4e53a56f1434145374688b05f7921a7"
  },
  "kernelspec": {
   "display_name": "autoleg 3.8",
   "language": "python",
   "name": "autoleg"
  },
  "language_info": {
   "codemirror_mode": {
    "name": "ipython",
    "version": 3
   },
   "file_extension": ".py",
   "mimetype": "text/x-python",
   "name": "python",
   "nbconvert_exporter": "python",
   "pygments_lexer": "ipython3",
   "version": "3.8.12"
  }
 },
 "nbformat": 4,
 "nbformat_minor": 2
}